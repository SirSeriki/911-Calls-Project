{
 "cells": [
  {
   "cell_type": "markdown",
   "metadata": {},
   "source": [
    "# 911 Calls Project¶\n",
    "For this capstone project we will be analyzing some 911 call data from Kaggle. The data contains the following fields:\n",
    "\n",
    "lat : String variable, Latitude\n",
    "lng: String variable, Longitude\n",
    "desc: String variable, Description of the Emergency Call\n",
    "zip: String variable, Zipcode\n",
    "title: String variable, Title\n",
    "timeStamp: String variable, YYYY-MM-DD HH:MM:SS\n",
    "twp: String variable, Township\n",
    "addr: String variable, Address\n",
    "e: String variable, Dummy variable (always 1)"
   ]
  },
  {
   "cell_type": "code",
   "execution_count": 1,
   "metadata": {},
   "outputs": [],
   "source": [
    "#Data Setup\n",
    "import numpy as np\n",
    "import pandas as pd"
   ]
  },
  {
   "cell_type": "code",
   "execution_count": 2,
   "metadata": {},
   "outputs": [],
   "source": [
    "import seaborn as sns\n",
    "import matplotlib.pyplot as plt\n",
    "%matplotlib inline "
   ]
  },
  {
   "cell_type": "code",
   "execution_count": 3,
   "metadata": {},
   "outputs": [],
   "source": [
    "df = pd.read_csv('911.csv')"
   ]
  },
  {
   "cell_type": "code",
   "execution_count": 32,
   "metadata": {},
   "outputs": [
    {
     "data": {
      "text/plain": [
       "19401.0    6979\n",
       "19464.0    6643\n",
       "19403.0    4854\n",
       "19446.0    4748\n",
       "19406.0    3174\n",
       "Name: zip, dtype: int64"
      ]
     },
     "execution_count": 32,
     "metadata": {},
     "output_type": "execute_result"
    }
   ],
   "source": [
    "#Top 5 zipcodes for 911 calls? \n",
    "df['zip'].value_counts().head(5)"
   ]
  },
  {
   "cell_type": "code",
   "execution_count": 5,
   "metadata": {},
   "outputs": [
    {
     "data": {
      "text/plain": [
       "110"
      ]
     },
     "execution_count": 5,
     "metadata": {},
     "output_type": "execute_result"
    }
   ],
   "source": [
    "count = df['title'].unique()\n",
    "len(count) "
   ]
  },
  {
   "cell_type": "code",
   "execution_count": 33,
   "metadata": {},
   "outputs": [],
   "source": [
    "##Using .apply() with a custom lambda expression to create a new column called \"Reason\" that contains string values\n",
    "\n",
    "df['Reason'] = df['title'].apply(lambda title: title.split(':')[0])"
   ]
  },
  {
   "cell_type": "code",
   "execution_count": 7,
   "metadata": {},
   "outputs": [
    {
     "data": {
      "text/plain": [
       "EMS        48877\n",
       "Traffic    35695\n",
       "Fire       14920\n",
       "Name: Reason, dtype: int64"
      ]
     },
     "execution_count": 7,
     "metadata": {},
     "output_type": "execute_result"
    }
   ],
   "source": [
    "#Finding the most common reason for 911 calls based on the Reason column \n",
    "\n",
    "df['Reason'].value_counts()\n"
   ]
  },
  {
   "cell_type": "code",
   "execution_count": 8,
   "metadata": {},
   "outputs": [
    {
     "data": {
      "text/plain": [
       "<matplotlib.axes._subplots.AxesSubplot at 0x20bd5542c50>"
      ]
     },
     "execution_count": 8,
     "metadata": {},
     "output_type": "execute_result"
    },
    {
     "data": {
      "image/png": "[encoded data removed]",
      "text/plain": [
       "<Figure size 432x288 with 1 Axes>"
      ]
     },
     "metadata": {
      "needs_background": "light"
     },
     "output_type": "display_data"
    }
   ],
   "source": [
    "sns.countplot(x='Reason',data=df)    "
   ]
  },
  {
   "cell_type": "code",
   "execution_count": 9,
   "metadata": {},
   "outputs": [
    {
     "data": {
      "text/plain": [
       "str"
      ]
     },
     "execution_count": 9,
     "metadata": {},
     "output_type": "execute_result"
    }
   ],
   "source": [
    "type(df['timeStamp'].iloc[2])"
   ]
  },
  {
   "cell_type": "code",
   "execution_count": 10,
   "metadata": {},
   "outputs": [],
   "source": [
    "#Used pd.to_datetime to convert the column from strings to DateTime objects \n",
    "df['timeStamp'] = pd.to_datetime(df['timeStamp'], format = '%Y-%m-%d %H:%M:%S')"
   ]
  },
  {
   "cell_type": "code",
   "execution_count": 11,
   "metadata": {},
   "outputs": [],
   "source": [
    "#Used .apply() to create 3 new columns called Hour, Month, and Day of Week.\n",
    "df['Hour'] = df['timeStamp'].apply(lambda time: time.hour)\n",
    "df['Month'] = df['timeStamp'].apply(lambda time: time.month )\n",
    "df['Day of Week'] = df['timeStamp'].apply(lambda time: time.dayofweek)\n"
   ]
  },
  {
   "cell_type": "code",
   "execution_count": 12,
   "metadata": {},
   "outputs": [],
   "source": [
    "#Used the .map() with this dictionary to map the actual string names to the day of the week:\n",
    "dmap = {0:'Mon',1:'Tue',2:'Wed',3:'Thu',4:'Fri',5:'Sat',6:'Sun'}\n",
    "df['Day of Week'] = df['Day of Week'].map(dmap)"
   ]
  },
  {
   "cell_type": "code",
   "execution_count": 13,
   "metadata": {},
   "outputs": [
    {
     "data": {
      "text/plain": [
       "<matplotlib.legend.Legend at 0x20bd98bb588>"
      ]
     },
     "execution_count": 13,
     "metadata": {},
     "output_type": "execute_result"
    },
    {
     "data": {
      "image/png": "[encoded data removed]",
      "text/plain": [
       "<Figure size 432x288 with 1 Axes>"
      ]
     },
     "metadata": {
      "needs_background": "light"
     },
     "output_type": "display_data"
    }
   ],
   "source": [
    "#Used seaborn to create a countplot of the Day of Week column with the hue based off of the Reason column\n",
    "sns.countplot(x='Day of Week',data=df,hue='Reason',palette='viridis')\n",
    "plt.legend(bbox_to_anchor=(1.05,1), loc=2, borderaxespad=0.)\n"
   ]
  },
  {
   "cell_type": "code",
   "execution_count": 14,
   "metadata": {},
   "outputs": [
    {
     "data": {
      "text/plain": [
       "<matplotlib.legend.Legend at 0x20bd960f390>"
      ]
     },
     "execution_count": 14,
     "metadata": {},
     "output_type": "execute_result"
    },
    {
     "data": {
      "image/png": "[encoded data removed]",
      "text/plain": [
       "<Figure size 432x288 with 1 Axes>"
      ]
     },
     "metadata": {
      "needs_background": "light"
     },
     "output_type": "display_data"
    }
   ],
   "source": [
    "sns.countplot(x='Month',data=df,hue='Reason',palette='viridis')\n",
    "plt.legend(bbox_to_anchor=(1.05,1), loc=2, borderaxespad=0.)\n"
   ]
  },
  {
   "cell_type": "code",
   "execution_count": 15,
   "metadata": {},
   "outputs": [
    {
     "data": {
      "text/html": [
       "<div>\n",
       "<style scoped>\n",
       "    .dataframe tbody tr th:only-of-type {\n",
       "        vertical-align: middle;\n",
       "    }\n",
       "\n",
       "    .dataframe tbody tr th {\n",
       "        vertical-align: top;\n",
       "    }\n",
       "\n",
       "    .dataframe thead th {\n",
       "        text-align: right;\n",
       "    }\n",
       "</style>\n",
       "<table border=\"1\" class=\"dataframe\">\n",
       "  <thead>\n",
       "    <tr style=\"text-align: right;\">\n",
       "      <th></th>\n",
       "      <th>lat</th>\n",
       "      <th>lng</th>\n",
       "      <th>desc</th>\n",
       "      <th>zip</th>\n",
       "      <th>title</th>\n",
       "      <th>timeStamp</th>\n",
       "      <th>twp</th>\n",
       "      <th>addr</th>\n",
       "      <th>e</th>\n",
       "      <th>Reason</th>\n",
       "      <th>Hour</th>\n",
       "      <th>Month</th>\n",
       "      <th>Day of Week</th>\n",
       "    </tr>\n",
       "  </thead>\n",
       "  <tbody>\n",
       "    <tr>\n",
       "      <th>0</th>\n",
       "      <td>40.297876</td>\n",
       "      <td>-75.581294</td>\n",
       "      <td>REINDEER CT &amp; DEAD END;  NEW HANOVER; Station ...</td>\n",
       "      <td>19525.0</td>\n",
       "      <td>EMS: BACK PAINS/INJURY</td>\n",
       "      <td>2015-12-10 17:40:00</td>\n",
       "      <td>NEW HANOVER</td>\n",
       "      <td>REINDEER CT &amp; DEAD END</td>\n",
       "      <td>1</td>\n",
       "      <td>EMS</td>\n",
       "      <td>17</td>\n",
       "      <td>12</td>\n",
       "      <td>Thu</td>\n",
       "    </tr>\n",
       "    <tr>\n",
       "      <th>1</th>\n",
       "      <td>40.258061</td>\n",
       "      <td>-75.264680</td>\n",
       "      <td>BRIAR PATH &amp; WHITEMARSH LN;  HATFIELD TOWNSHIP...</td>\n",
       "      <td>19446.0</td>\n",
       "      <td>EMS: DIABETIC EMERGENCY</td>\n",
       "      <td>2015-12-10 17:40:00</td>\n",
       "      <td>HATFIELD TOWNSHIP</td>\n",
       "      <td>BRIAR PATH &amp; WHITEMARSH LN</td>\n",
       "      <td>1</td>\n",
       "      <td>EMS</td>\n",
       "      <td>17</td>\n",
       "      <td>12</td>\n",
       "      <td>Thu</td>\n",
       "    </tr>\n",
       "    <tr>\n",
       "      <th>2</th>\n",
       "      <td>40.121182</td>\n",
       "      <td>-75.351975</td>\n",
       "      <td>HAWS AVE; NORRISTOWN; 2015-12-10 @ 14:39:21-St...</td>\n",
       "      <td>19401.0</td>\n",
       "      <td>Fire: GAS-ODOR/LEAK</td>\n",
       "      <td>2015-12-10 17:40:00</td>\n",
       "      <td>NORRISTOWN</td>\n",
       "      <td>HAWS AVE</td>\n",
       "      <td>1</td>\n",
       "      <td>Fire</td>\n",
       "      <td>17</td>\n",
       "      <td>12</td>\n",
       "      <td>Thu</td>\n",
       "    </tr>\n",
       "    <tr>\n",
       "      <th>3</th>\n",
       "      <td>40.116153</td>\n",
       "      <td>-75.343513</td>\n",
       "      <td>AIRY ST &amp; SWEDE ST;  NORRISTOWN; Station 308A;...</td>\n",
       "      <td>19401.0</td>\n",
       "      <td>EMS: CARDIAC EMERGENCY</td>\n",
       "      <td>2015-12-10 17:40:01</td>\n",
       "      <td>NORRISTOWN</td>\n",
       "      <td>AIRY ST &amp; SWEDE ST</td>\n",
       "      <td>1</td>\n",
       "      <td>EMS</td>\n",
       "      <td>17</td>\n",
       "      <td>12</td>\n",
       "      <td>Thu</td>\n",
       "    </tr>\n",
       "    <tr>\n",
       "      <th>4</th>\n",
       "      <td>40.251492</td>\n",
       "      <td>-75.603350</td>\n",
       "      <td>CHERRYWOOD CT &amp; DEAD END;  LOWER POTTSGROVE; S...</td>\n",
       "      <td>NaN</td>\n",
       "      <td>EMS: DIZZINESS</td>\n",
       "      <td>2015-12-10 17:40:01</td>\n",
       "      <td>LOWER POTTSGROVE</td>\n",
       "      <td>CHERRYWOOD CT &amp; DEAD END</td>\n",
       "      <td>1</td>\n",
       "      <td>EMS</td>\n",
       "      <td>17</td>\n",
       "      <td>12</td>\n",
       "      <td>Thu</td>\n",
       "    </tr>\n",
       "    <tr>\n",
       "      <th>7969</th>\n",
       "      <td>40.121354</td>\n",
       "      <td>-75.363829</td>\n",
       "      <td>ROSEMONT AVE &amp; W WASHINGTON ST;  NORRISTOWN; S...</td>\n",
       "      <td>19401.0</td>\n",
       "      <td>EMS: ASSAULT VICTIM</td>\n",
       "      <td>2016-01-01 00:12:01</td>\n",
       "      <td>NORRISTOWN</td>\n",
       "      <td>ROSEMONT AVE &amp; W WASHINGTON ST</td>\n",
       "      <td>1</td>\n",
       "      <td>EMS</td>\n",
       "      <td>0</td>\n",
       "      <td>1</td>\n",
       "      <td>Fri</td>\n",
       "    </tr>\n",
       "    <tr>\n",
       "      <th>7970</th>\n",
       "      <td>40.140505</td>\n",
       "      <td>-75.310874</td>\n",
       "      <td>GERMANTOWN PIKE &amp; HANNAH AVE;  EAST NORRITON; ...</td>\n",
       "      <td>19401.0</td>\n",
       "      <td>EMS: FALL VICTIM</td>\n",
       "      <td>2016-01-01 00:17:00</td>\n",
       "      <td>EAST NORRITON</td>\n",
       "      <td>GERMANTOWN PIKE &amp; HANNAH AVE</td>\n",
       "      <td>1</td>\n",
       "      <td>EMS</td>\n",
       "      <td>0</td>\n",
       "      <td>1</td>\n",
       "      <td>Fri</td>\n",
       "    </tr>\n",
       "    <tr>\n",
       "      <th>7971</th>\n",
       "      <td>40.246837</td>\n",
       "      <td>-75.681381</td>\n",
       "      <td>VINE ST &amp; CENTER ST;  WEST POTTSGROVE; Station...</td>\n",
       "      <td>19464.0</td>\n",
       "      <td>EMS: ABDOMINAL PAINS</td>\n",
       "      <td>2016-01-01 00:22:00</td>\n",
       "      <td>WEST POTTSGROVE</td>\n",
       "      <td>VINE ST &amp; CENTER ST</td>\n",
       "      <td>1</td>\n",
       "      <td>EMS</td>\n",
       "      <td>0</td>\n",
       "      <td>1</td>\n",
       "      <td>Fri</td>\n",
       "    </tr>\n",
       "    <tr>\n",
       "      <th>7972</th>\n",
       "      <td>40.097222</td>\n",
       "      <td>-75.376195</td>\n",
       "      <td>MARK LN &amp; DEAD END;  UPPER MERION; Station 317...</td>\n",
       "      <td>NaN</td>\n",
       "      <td>EMS: ALTERED MENTAL STATUS</td>\n",
       "      <td>2016-01-01 00:27:01</td>\n",
       "      <td>UPPER MERION</td>\n",
       "      <td>MARK LN &amp; DEAD END</td>\n",
       "      <td>1</td>\n",
       "      <td>EMS</td>\n",
       "      <td>0</td>\n",
       "      <td>1</td>\n",
       "      <td>Fri</td>\n",
       "    </tr>\n",
       "    <tr>\n",
       "      <th>7973</th>\n",
       "      <td>40.148432</td>\n",
       "      <td>-75.219812</td>\n",
       "      <td>BANNOCKBURN AVE &amp; S SPRING GARDEN ST;  AMBLER;...</td>\n",
       "      <td>19002.0</td>\n",
       "      <td>EMS: DIABETIC EMERGENCY</td>\n",
       "      <td>2016-01-01 00:32:01</td>\n",
       "      <td>AMBLER</td>\n",
       "      <td>BANNOCKBURN AVE &amp; S SPRING GARDEN ST</td>\n",
       "      <td>1</td>\n",
       "      <td>EMS</td>\n",
       "      <td>0</td>\n",
       "      <td>1</td>\n",
       "      <td>Fri</td>\n",
       "    </tr>\n",
       "    <tr>\n",
       "      <th>21174</th>\n",
       "      <td>40.185223</td>\n",
       "      <td>-75.450603</td>\n",
       "      <td>2ND AVE &amp; E MAIN ST; COLLEGEVILLE; 2016-02-01 ...</td>\n",
       "      <td>19426.0</td>\n",
       "      <td>Traffic: HAZARDOUS ROAD CONDITIONS -</td>\n",
       "      <td>2016-02-01 00:42:00</td>\n",
       "      <td>COLLEGEVILLE</td>\n",
       "      <td>2ND AVE &amp; E MAIN ST</td>\n",
       "      <td>1</td>\n",
       "      <td>Traffic</td>\n",
       "      <td>0</td>\n",
       "      <td>2</td>\n",
       "      <td>Mon</td>\n",
       "    </tr>\n",
       "    <tr>\n",
       "      <th>21175</th>\n",
       "      <td>40.022714</td>\n",
       "      <td>-75.320863</td>\n",
       "      <td>MERION AVE &amp; W LANCASTER AVE;  LOWER MERION; S...</td>\n",
       "      <td>19010.0</td>\n",
       "      <td>EMS: ABDOMINAL PAINS</td>\n",
       "      <td>2016-02-01 00:47:00</td>\n",
       "      <td>LOWER MERION</td>\n",
       "      <td>MERION AVE &amp; W LANCASTER AVE</td>\n",
       "      <td>1</td>\n",
       "      <td>EMS</td>\n",
       "      <td>0</td>\n",
       "      <td>2</td>\n",
       "      <td>Mon</td>\n",
       "    </tr>\n",
       "    <tr>\n",
       "      <th>21176</th>\n",
       "      <td>40.225099</td>\n",
       "      <td>-75.207651</td>\n",
       "      <td>HORSHAM RD &amp; GREEN TREE TAVERN RD;  HORSHAM; S...</td>\n",
       "      <td>19454.0</td>\n",
       "      <td>EMS: CARDIAC EMERGENCY</td>\n",
       "      <td>2016-02-01 00:52:00</td>\n",
       "      <td>HORSHAM</td>\n",
       "      <td>HORSHAM RD &amp; GREEN TREE TAVERN RD</td>\n",
       "      <td>1</td>\n",
       "      <td>EMS</td>\n",
       "      <td>0</td>\n",
       "      <td>2</td>\n",
       "      <td>Mon</td>\n",
       "    </tr>\n",
       "    <tr>\n",
       "      <th>21177</th>\n",
       "      <td>40.082193</td>\n",
       "      <td>-75.298077</td>\n",
       "      <td>FAYETTE ST &amp; W 11TH AVE;  CONSHOHOCKEN; Statio...</td>\n",
       "      <td>19428.0</td>\n",
       "      <td>EMS: DIZZINESS</td>\n",
       "      <td>2016-02-01 00:57:00</td>\n",
       "      <td>CONSHOHOCKEN</td>\n",
       "      <td>FAYETTE ST &amp; W 11TH AVE</td>\n",
       "      <td>1</td>\n",
       "      <td>EMS</td>\n",
       "      <td>0</td>\n",
       "      <td>2</td>\n",
       "      <td>Mon</td>\n",
       "    </tr>\n",
       "    <tr>\n",
       "      <th>21178</th>\n",
       "      <td>40.289027</td>\n",
       "      <td>-75.399590</td>\n",
       "      <td>MAIN ST &amp; OLD SUMNEYTOWN PIKE;  LOWER SALFORD;...</td>\n",
       "      <td>19438.0</td>\n",
       "      <td>EMS: RESPIRATORY EMERGENCY</td>\n",
       "      <td>2016-02-01 00:57:00</td>\n",
       "      <td>LOWER SALFORD</td>\n",
       "      <td>MAIN ST &amp; OLD SUMNEYTOWN PIKE</td>\n",
       "      <td>1</td>\n",
       "      <td>EMS</td>\n",
       "      <td>0</td>\n",
       "      <td>2</td>\n",
       "      <td>Mon</td>\n",
       "    </tr>\n",
       "    <tr>\n",
       "      <th>32641</th>\n",
       "      <td>40.155369</td>\n",
       "      <td>-75.124353</td>\n",
       "      <td>RUSSELL RD &amp; ANDREA DR;  UPPER MORELAND; Stati...</td>\n",
       "      <td>19090.0</td>\n",
       "      <td>EMS: HEMORRHAGING</td>\n",
       "      <td>2016-03-01 00:07:01</td>\n",
       "      <td>UPPER MORELAND</td>\n",
       "      <td>RUSSELL RD &amp; ANDREA DR</td>\n",
       "      <td>1</td>\n",
       "      <td>EMS</td>\n",
       "      <td>0</td>\n",
       "      <td>3</td>\n",
       "      <td>Tue</td>\n",
       "    </tr>\n",
       "    <tr>\n",
       "      <th>32642</th>\n",
       "      <td>40.376257</td>\n",
       "      <td>-75.482552</td>\n",
       "      <td>MAIN ST &amp; W 5TH ST; RED HILL; 2016-03-01 @ 00:...</td>\n",
       "      <td>18076.0</td>\n",
       "      <td>Traffic: VEHICLE ACCIDENT -</td>\n",
       "      <td>2016-03-01 00:12:01</td>\n",
       "      <td>RED HILL</td>\n",
       "      <td>MAIN ST &amp; W 5TH ST</td>\n",
       "      <td>1</td>\n",
       "      <td>Traffic</td>\n",
       "      <td>0</td>\n",
       "      <td>3</td>\n",
       "      <td>Tue</td>\n",
       "    </tr>\n",
       "    <tr>\n",
       "      <th>32643</th>\n",
       "      <td>40.380733</td>\n",
       "      <td>-75.485467</td>\n",
       "      <td>MAIN ST &amp; W 8TH ST; RED HILL; 2016-03-01 @ 00:...</td>\n",
       "      <td>18076.0</td>\n",
       "      <td>Traffic: VEHICLE ACCIDENT -</td>\n",
       "      <td>2016-03-01 00:17:01</td>\n",
       "      <td>RED HILL</td>\n",
       "      <td>MAIN ST &amp; W 8TH ST</td>\n",
       "      <td>1</td>\n",
       "      <td>Traffic</td>\n",
       "      <td>0</td>\n",
       "      <td>3</td>\n",
       "      <td>Tue</td>\n",
       "    </tr>\n",
       "    <tr>\n",
       "      <th>32644</th>\n",
       "      <td>40.153739</td>\n",
       "      <td>-75.457630</td>\n",
       "      <td>ARCOLA RD &amp; PERKIOMEN TRL; UPPER PROVIDENCE; 2...</td>\n",
       "      <td>19426.0</td>\n",
       "      <td>Traffic: VEHICLE ACCIDENT -</td>\n",
       "      <td>2016-03-01 00:47:01</td>\n",
       "      <td>UPPER PROVIDENCE</td>\n",
       "      <td>ARCOLA RD &amp; PERKIOMEN TRL</td>\n",
       "      <td>1</td>\n",
       "      <td>Traffic</td>\n",
       "      <td>0</td>\n",
       "      <td>3</td>\n",
       "      <td>Tue</td>\n",
       "    </tr>\n",
       "    <tr>\n",
       "      <th>32645</th>\n",
       "      <td>40.097222</td>\n",
       "      <td>-75.376195</td>\n",
       "      <td>GROVE LN &amp; DEAD END;  UPPER MERION; Station 31...</td>\n",
       "      <td>NaN</td>\n",
       "      <td>EMS: NAUSEA/VOMITING</td>\n",
       "      <td>2016-03-01 00:57:01</td>\n",
       "      <td>UPPER MERION</td>\n",
       "      <td>GROVE LN &amp; DEAD END</td>\n",
       "      <td>1</td>\n",
       "      <td>EMS</td>\n",
       "      <td>0</td>\n",
       "      <td>3</td>\n",
       "      <td>Tue</td>\n",
       "    </tr>\n",
       "    <tr>\n",
       "      <th>43742</th>\n",
       "      <td>40.162804</td>\n",
       "      <td>-75.097848</td>\n",
       "      <td>YORK RD &amp; TURNPIKE OVERPASS; UPPER MORELAND; 2...</td>\n",
       "      <td>19040.0</td>\n",
       "      <td>Traffic: ROAD OBSTRUCTION -</td>\n",
       "      <td>2016-04-01 00:07:01</td>\n",
       "      <td>UPPER MORELAND</td>\n",
       "      <td>YORK RD &amp; TURNPIKE OVERPASS</td>\n",
       "      <td>1</td>\n",
       "      <td>Traffic</td>\n",
       "      <td>0</td>\n",
       "      <td>4</td>\n",
       "      <td>Fri</td>\n",
       "    </tr>\n",
       "    <tr>\n",
       "      <th>43743</th>\n",
       "      <td>40.024967</td>\n",
       "      <td>-75.282905</td>\n",
       "      <td>SCHUYLKILL EXPY &amp; RR UNDERPASS; LOWER MERION; ...</td>\n",
       "      <td>NaN</td>\n",
       "      <td>Traffic: DISABLED VEHICLE -</td>\n",
       "      <td>2016-04-01 00:17:00</td>\n",
       "      <td>LOWER MERION</td>\n",
       "      <td>SCHUYLKILL EXPY &amp; RR UNDERPASS</td>\n",
       "      <td>1</td>\n",
       "      <td>Traffic</td>\n",
       "      <td>0</td>\n",
       "      <td>4</td>\n",
       "      <td>Fri</td>\n",
       "    </tr>\n",
       "    <tr>\n",
       "      <th>43744</th>\n",
       "      <td>40.223952</td>\n",
       "      <td>-75.347085</td>\n",
       "      <td>MORRIS RD &amp; HENNING WAY; TOWAMENCIN; 2016-04-0...</td>\n",
       "      <td>19446.0</td>\n",
       "      <td>Traffic: VEHICLE ACCIDENT -</td>\n",
       "      <td>2016-04-01 00:17:00</td>\n",
       "      <td>TOWAMENCIN</td>\n",
       "      <td>MORRIS RD &amp; HENNING WAY</td>\n",
       "      <td>1</td>\n",
       "      <td>Traffic</td>\n",
       "      <td>0</td>\n",
       "      <td>4</td>\n",
       "      <td>Fri</td>\n",
       "    </tr>\n",
       "    <tr>\n",
       "      <th>43745</th>\n",
       "      <td>40.223952</td>\n",
       "      <td>-75.347085</td>\n",
       "      <td>MORRIS RD &amp; HENNING WAY; TOWAMENCIN; 2016-04-0...</td>\n",
       "      <td>19446.0</td>\n",
       "      <td>Traffic: VEHICLE ACCIDENT -</td>\n",
       "      <td>2016-04-01 00:26:01</td>\n",
       "      <td>TOWAMENCIN</td>\n",
       "      <td>MORRIS RD &amp; HENNING WAY</td>\n",
       "      <td>1</td>\n",
       "      <td>Traffic</td>\n",
       "      <td>0</td>\n",
       "      <td>4</td>\n",
       "      <td>Fri</td>\n",
       "    </tr>\n",
       "    <tr>\n",
       "      <th>43746</th>\n",
       "      <td>40.178442</td>\n",
       "      <td>-75.128506</td>\n",
       "      <td>RIDGEVIEW DR &amp; DEAD END; HORSHAM; 2016-04-01 @...</td>\n",
       "      <td>NaN</td>\n",
       "      <td>Fire: FIRE ALARM</td>\n",
       "      <td>2016-04-01 00:27:00</td>\n",
       "      <td>HORSHAM</td>\n",
       "      <td>RIDGEVIEW DR &amp; DEAD END</td>\n",
       "      <td>1</td>\n",
       "      <td>Fire</td>\n",
       "      <td>0</td>\n",
       "      <td>4</td>\n",
       "      <td>Fri</td>\n",
       "    </tr>\n",
       "    <tr>\n",
       "      <th>55068</th>\n",
       "      <td>40.210101</td>\n",
       "      <td>-75.275821</td>\n",
       "      <td>MAIN ST &amp; E MONTGOMERY AVE;  NORTH WALES; Stat...</td>\n",
       "      <td>19454.0</td>\n",
       "      <td>EMS: ABDOMINAL PAINS</td>\n",
       "      <td>2016-05-01 00:02:01</td>\n",
       "      <td>NORTH WALES</td>\n",
       "      <td>MAIN ST &amp; E MONTGOMERY AVE</td>\n",
       "      <td>1</td>\n",
       "      <td>EMS</td>\n",
       "      <td>0</td>\n",
       "      <td>5</td>\n",
       "      <td>Sun</td>\n",
       "    </tr>\n",
       "    <tr>\n",
       "      <th>55069</th>\n",
       "      <td>40.070388</td>\n",
       "      <td>-75.143996</td>\n",
       "      <td>PENROSE AVE &amp; BEECH AVE;  CHELTENHAM; Station ...</td>\n",
       "      <td>19027.0</td>\n",
       "      <td>EMS: RESPIRATORY EMERGENCY</td>\n",
       "      <td>2016-05-01 00:02:01</td>\n",
       "      <td>CHELTENHAM</td>\n",
       "      <td>PENROSE AVE &amp; BEECH AVE</td>\n",
       "      <td>1</td>\n",
       "      <td>EMS</td>\n",
       "      <td>0</td>\n",
       "      <td>5</td>\n",
       "      <td>Sun</td>\n",
       "    </tr>\n",
       "    <tr>\n",
       "      <th>55070</th>\n",
       "      <td>40.191397</td>\n",
       "      <td>-75.458221</td>\n",
       "      <td>MAIN ST &amp; 6TH AVE;  COLLEGEVILLE; Station 324;...</td>\n",
       "      <td>19426.0</td>\n",
       "      <td>EMS: OVERDOSE</td>\n",
       "      <td>2016-05-01 00:02:02</td>\n",
       "      <td>COLLEGEVILLE</td>\n",
       "      <td>MAIN ST &amp; 6TH AVE</td>\n",
       "      <td>1</td>\n",
       "      <td>EMS</td>\n",
       "      <td>0</td>\n",
       "      <td>5</td>\n",
       "      <td>Sun</td>\n",
       "    </tr>\n",
       "    <tr>\n",
       "      <th>55071</th>\n",
       "      <td>40.185660</td>\n",
       "      <td>-75.451571</td>\n",
       "      <td>MAIN CAMPUS DR &amp; DEAD END;  COLLEGEVILLE; Stat...</td>\n",
       "      <td>19426.0</td>\n",
       "      <td>EMS: OVERDOSE</td>\n",
       "      <td>2016-05-01 00:07:01</td>\n",
       "      <td>COLLEGEVILLE</td>\n",
       "      <td>MAIN CAMPUS DR &amp; DEAD END</td>\n",
       "      <td>1</td>\n",
       "      <td>EMS</td>\n",
       "      <td>0</td>\n",
       "      <td>5</td>\n",
       "      <td>Sun</td>\n",
       "    </tr>\n",
       "    <tr>\n",
       "      <th>55072</th>\n",
       "      <td>40.288861</td>\n",
       "      <td>-75.267753</td>\n",
       "      <td>BETHLEHEM PIKE &amp; ORVILLA RD; BUCKS COUNTY; 201...</td>\n",
       "      <td>19440.0</td>\n",
       "      <td>Traffic: VEHICLE ACCIDENT -</td>\n",
       "      <td>2016-05-01 00:07:01</td>\n",
       "      <td>BUCKS COUNTY</td>\n",
       "      <td>BETHLEHEM PIKE &amp; ORVILLA RD</td>\n",
       "      <td>1</td>\n",
       "      <td>Traffic</td>\n",
       "      <td>0</td>\n",
       "      <td>5</td>\n",
       "      <td>Sun</td>\n",
       "    </tr>\n",
       "    <tr>\n",
       "      <th>66491</th>\n",
       "      <td>40.082981</td>\n",
       "      <td>-75.206303</td>\n",
       "      <td>STENTON AVE &amp; NEWTON ST;  SPRINGFIELD; Station...</td>\n",
       "      <td>19038.0</td>\n",
       "      <td>EMS: HEAD INJURY</td>\n",
       "      <td>2016-06-01 00:12:00</td>\n",
       "      <td>SPRINGFIELD</td>\n",
       "      <td>STENTON AVE &amp; NEWTON ST</td>\n",
       "      <td>1</td>\n",
       "      <td>EMS</td>\n",
       "      <td>0</td>\n",
       "      <td>6</td>\n",
       "      <td>Wed</td>\n",
       "    </tr>\n",
       "    <tr>\n",
       "      <th>66492</th>\n",
       "      <td>40.258253</td>\n",
       "      <td>-75.248230</td>\n",
       "      <td>BETHLEHEM PIKE &amp; TAYLOR RD;  MONTGOMERY; Stati...</td>\n",
       "      <td>19446.0</td>\n",
       "      <td>EMS: HEMORRHAGING</td>\n",
       "      <td>2016-06-01 00:12:00</td>\n",
       "      <td>MONTGOMERY</td>\n",
       "      <td>BETHLEHEM PIKE &amp; TAYLOR RD</td>\n",
       "      <td>1</td>\n",
       "      <td>EMS</td>\n",
       "      <td>0</td>\n",
       "      <td>6</td>\n",
       "      <td>Wed</td>\n",
       "    </tr>\n",
       "    <tr>\n",
       "      <th>66493</th>\n",
       "      <td>40.242739</td>\n",
       "      <td>-75.217067</td>\n",
       "      <td>STUMP RD &amp; STEEPLECHASE DR;  MONTGOMERY; Stati...</td>\n",
       "      <td>19454.0</td>\n",
       "      <td>EMS: ABDOMINAL PAINS</td>\n",
       "      <td>2016-06-01 00:12:01</td>\n",
       "      <td>MONTGOMERY</td>\n",
       "      <td>STUMP RD &amp; STEEPLECHASE DR</td>\n",
       "      <td>1</td>\n",
       "      <td>EMS</td>\n",
       "      <td>0</td>\n",
       "      <td>6</td>\n",
       "      <td>Wed</td>\n",
       "    </tr>\n",
       "    <tr>\n",
       "      <th>66494</th>\n",
       "      <td>40.160197</td>\n",
       "      <td>-75.217753</td>\n",
       "      <td>FOREST AVE &amp; GLEN MAWR DR;  AMBLER; Station 35...</td>\n",
       "      <td>19002.0</td>\n",
       "      <td>EMS: NAUSEA/VOMITING</td>\n",
       "      <td>2016-06-01 00:17:00</td>\n",
       "      <td>AMBLER</td>\n",
       "      <td>FOREST AVE &amp; GLEN MAWR DR</td>\n",
       "      <td>1</td>\n",
       "      <td>EMS</td>\n",
       "      <td>0</td>\n",
       "      <td>6</td>\n",
       "      <td>Wed</td>\n",
       "    </tr>\n",
       "    <tr>\n",
       "      <th>66495</th>\n",
       "      <td>40.100423</td>\n",
       "      <td>-75.207064</td>\n",
       "      <td>RT309 EXPY &amp; PAPER MILL RD UNDERPASS; SPRINGFI...</td>\n",
       "      <td>NaN</td>\n",
       "      <td>Traffic: DISABLED VEHICLE -</td>\n",
       "      <td>2016-06-01 00:46:00</td>\n",
       "      <td>SPRINGFIELD</td>\n",
       "      <td>RT309 EXPY &amp; PAPER MILL RD UNDERPASS</td>\n",
       "      <td>1</td>\n",
       "      <td>Traffic</td>\n",
       "      <td>0</td>\n",
       "      <td>6</td>\n",
       "      <td>Wed</td>\n",
       "    </tr>\n",
       "    <tr>\n",
       "      <th>78277</th>\n",
       "      <td>40.245448</td>\n",
       "      <td>-75.433483</td>\n",
       "      <td>CHANDLER LN &amp; WENTZ LN; SKIPPACK; 2016-07-01 @...</td>\n",
       "      <td>19473.0</td>\n",
       "      <td>Fire: CARDIAC ARREST</td>\n",
       "      <td>2016-07-01 00:06:01</td>\n",
       "      <td>SKIPPACK</td>\n",
       "      <td>CHANDLER LN &amp; WENTZ LN</td>\n",
       "      <td>1</td>\n",
       "      <td>Fire</td>\n",
       "      <td>0</td>\n",
       "      <td>7</td>\n",
       "      <td>Fri</td>\n",
       "    </tr>\n",
       "    <tr>\n",
       "      <th>78278</th>\n",
       "      <td>40.309149</td>\n",
       "      <td>-75.356491</td>\n",
       "      <td>LONGCHAMP DR &amp; DEAD END;  FRANCONIA; Station 3...</td>\n",
       "      <td>NaN</td>\n",
       "      <td>EMS: CARDIAC EMERGENCY</td>\n",
       "      <td>2016-07-01 00:12:00</td>\n",
       "      <td>FRANCONIA</td>\n",
       "      <td>LONGCHAMP DR &amp; DEAD END</td>\n",
       "      <td>1</td>\n",
       "      <td>EMS</td>\n",
       "      <td>0</td>\n",
       "      <td>7</td>\n",
       "      <td>Fri</td>\n",
       "    </tr>\n",
       "    <tr>\n",
       "      <th>78279</th>\n",
       "      <td>40.246539</td>\n",
       "      <td>-75.648820</td>\n",
       "      <td>KING ST &amp; PENN ST;  POTTSTOWN; Station 329; 20...</td>\n",
       "      <td>19464.0</td>\n",
       "      <td>EMS: RESPIRATORY EMERGENCY</td>\n",
       "      <td>2016-07-01 00:17:00</td>\n",
       "      <td>POTTSTOWN</td>\n",
       "      <td>KING ST &amp; PENN ST</td>\n",
       "      <td>1</td>\n",
       "      <td>EMS</td>\n",
       "      <td>0</td>\n",
       "      <td>7</td>\n",
       "      <td>Fri</td>\n",
       "    </tr>\n",
       "    <tr>\n",
       "      <th>78280</th>\n",
       "      <td>40.129012</td>\n",
       "      <td>-75.334741</td>\n",
       "      <td>JUNIPER ST &amp; W BROWN ST; NORRISTOWN; 2016-07-0...</td>\n",
       "      <td>19401.0</td>\n",
       "      <td>Fire: FIRE INVESTIGATION</td>\n",
       "      <td>2016-07-01 00:31:00</td>\n",
       "      <td>NORRISTOWN</td>\n",
       "      <td>JUNIPER ST &amp; W BROWN ST</td>\n",
       "      <td>1</td>\n",
       "      <td>Fire</td>\n",
       "      <td>0</td>\n",
       "      <td>7</td>\n",
       "      <td>Fri</td>\n",
       "    </tr>\n",
       "    <tr>\n",
       "      <th>78281</th>\n",
       "      <td>40.400194</td>\n",
       "      <td>-75.499713</td>\n",
       "      <td>2ND ST &amp; DOTTS ST;  PENNSBURG; Station 369; 20...</td>\n",
       "      <td>18073.0</td>\n",
       "      <td>EMS: HEMORRHAGING</td>\n",
       "      <td>2016-07-01 00:32:00</td>\n",
       "      <td>PENNSBURG</td>\n",
       "      <td>2ND ST &amp; DOTTS ST</td>\n",
       "      <td>1</td>\n",
       "      <td>EMS</td>\n",
       "      <td>0</td>\n",
       "      <td>7</td>\n",
       "      <td>Fri</td>\n",
       "    </tr>\n",
       "    <tr>\n",
       "      <th>90414</th>\n",
       "      <td>40.111326</td>\n",
       "      <td>-75.127148</td>\n",
       "      <td>CANTERBURY RD &amp; HEMLOCK CIR;  ABINGTON; Statio...</td>\n",
       "      <td>19001.0</td>\n",
       "      <td>EMS: UNKNOWN MEDICAL EMERGENCY</td>\n",
       "      <td>2016-08-01 00:12:00</td>\n",
       "      <td>ABINGTON</td>\n",
       "      <td>CANTERBURY RD &amp; HEMLOCK CIR</td>\n",
       "      <td>1</td>\n",
       "      <td>EMS</td>\n",
       "      <td>0</td>\n",
       "      <td>8</td>\n",
       "      <td>Mon</td>\n",
       "    </tr>\n",
       "    <tr>\n",
       "      <th>90415</th>\n",
       "      <td>40.137376</td>\n",
       "      <td>-75.502518</td>\n",
       "      <td>NORWOOD ST &amp; WHITAKER AVE;  UPPER PROVIDENCE; ...</td>\n",
       "      <td>19453.0</td>\n",
       "      <td>EMS: OVERDOSE</td>\n",
       "      <td>2016-08-01 00:17:00</td>\n",
       "      <td>UPPER PROVIDENCE</td>\n",
       "      <td>NORWOOD ST &amp; WHITAKER AVE</td>\n",
       "      <td>1</td>\n",
       "      <td>EMS</td>\n",
       "      <td>0</td>\n",
       "      <td>8</td>\n",
       "      <td>Mon</td>\n",
       "    </tr>\n",
       "    <tr>\n",
       "      <th>90416</th>\n",
       "      <td>40.137450</td>\n",
       "      <td>-75.475365</td>\n",
       "      <td>EGYPT RD &amp; LONGFORD RD; UPPER PROVIDENCE; 2016...</td>\n",
       "      <td>19460.0</td>\n",
       "      <td>Traffic: DISABLED VEHICLE -</td>\n",
       "      <td>2016-08-01 00:26:00</td>\n",
       "      <td>UPPER PROVIDENCE</td>\n",
       "      <td>EGYPT RD &amp; LONGFORD RD</td>\n",
       "      <td>1</td>\n",
       "      <td>Traffic</td>\n",
       "      <td>0</td>\n",
       "      <td>8</td>\n",
       "      <td>Mon</td>\n",
       "    </tr>\n",
       "    <tr>\n",
       "      <th>90417</th>\n",
       "      <td>40.155827</td>\n",
       "      <td>-75.365208</td>\n",
       "      <td>GERMANTOWN PIKE &amp; BRIDLE PATH RD;  EAST NORRIT...</td>\n",
       "      <td>19403.0</td>\n",
       "      <td>EMS: ABDOMINAL PAINS</td>\n",
       "      <td>2016-08-01 00:32:00</td>\n",
       "      <td>EAST NORRITON</td>\n",
       "      <td>GERMANTOWN PIKE &amp; BRIDLE PATH RD</td>\n",
       "      <td>1</td>\n",
       "      <td>EMS</td>\n",
       "      <td>0</td>\n",
       "      <td>8</td>\n",
       "      <td>Mon</td>\n",
       "    </tr>\n",
       "    <tr>\n",
       "      <th>90418</th>\n",
       "      <td>40.179084</td>\n",
       "      <td>-75.095875</td>\n",
       "      <td>TANNER AVE &amp; JEFFERSON AVE;  HATBORO; Station ...</td>\n",
       "      <td>19040.0</td>\n",
       "      <td>EMS: OVERDOSE</td>\n",
       "      <td>2016-08-01 00:46:00</td>\n",
       "      <td>HATBORO</td>\n",
       "      <td>TANNER AVE &amp; JEFFERSON AVE</td>\n",
       "      <td>1</td>\n",
       "      <td>EMS</td>\n",
       "      <td>0</td>\n",
       "      <td>8</td>\n",
       "      <td>Mon</td>\n",
       "    </tr>\n",
       "  </tbody>\n",
       "</table>\n",
       "</div>"
      ],
      "text/plain": [
       "             lat        lng  \\\n",
       "0      40.297876 -75.581294   \n",
       "1      40.258061 -75.264680   \n",
       "2      40.121182 -75.351975   \n",
       "3      40.116153 -75.343513   \n",
       "4      40.251492 -75.603350   \n",
       "7969   40.121354 -75.363829   \n",
       "7970   40.140505 -75.310874   \n",
       "7971   40.246837 -75.681381   \n",
       "7972   40.097222 -75.376195   \n",
       "7973   40.148432 -75.219812   \n",
       "21174  40.185223 -75.450603   \n",
       "21175  40.022714 -75.320863   \n",
       "21176  40.225099 -75.207651   \n",
       "21177  40.082193 -75.298077   \n",
       "21178  40.289027 -75.399590   \n",
       "32641  40.155369 -75.124353   \n",
       "32642  40.376257 -75.482552   \n",
       "32643  40.380733 -75.485467   \n",
       "32644  40.153739 -75.457630   \n",
       "32645  40.097222 -75.376195   \n",
       "43742  40.162804 -75.097848   \n",
       "43743  40.024967 -75.282905   \n",
       "43744  40.223952 -75.347085   \n",
       "43745  40.223952 -75.347085   \n",
       "43746  40.178442 -75.128506   \n",
       "55068  40.210101 -75.275821   \n",
       "55069  40.070388 -75.143996   \n",
       "55070  40.191397 -75.458221   \n",
       "55071  40.185660 -75.451571   \n",
       "55072  40.288861 -75.267753   \n",
       "66491  40.082981 -75.206303   \n",
       "66492  40.258253 -75.248230   \n",
       "66493  40.242739 -75.217067   \n",
       "66494  40.160197 -75.217753   \n",
       "66495  40.100423 -75.207064   \n",
       "78277  40.245448 -75.433483   \n",
       "78278  40.309149 -75.356491   \n",
       "78279  40.246539 -75.648820   \n",
       "78280  40.129012 -75.334741   \n",
       "78281  40.400194 -75.499713   \n",
       "90414  40.111326 -75.127148   \n",
       "90415  40.137376 -75.502518   \n",
       "90416  40.137450 -75.475365   \n",
       "90417  40.155827 -75.365208   \n",
       "90418  40.179084 -75.095875   \n",
       "\n",
       "                                                    desc      zip  \\\n",
       "0      REINDEER CT & DEAD END;  NEW HANOVER; Station ...  19525.0   \n",
       "1      BRIAR PATH & WHITEMARSH LN;  HATFIELD TOWNSHIP...  19446.0   \n",
       "2      HAWS AVE; NORRISTOWN; 2015-12-10 @ 14:39:21-St...  19401.0   \n",
       "3      AIRY ST & SWEDE ST;  NORRISTOWN; Station 308A;...  19401.0   \n",
       "4      CHERRYWOOD CT & DEAD END;  LOWER POTTSGROVE; S...      NaN   \n",
       "7969   ROSEMONT AVE & W WASHINGTON ST;  NORRISTOWN; S...  19401.0   \n",
       "7970   GERMANTOWN PIKE & HANNAH AVE;  EAST NORRITON; ...  19401.0   \n",
       "7971   VINE ST & CENTER ST;  WEST POTTSGROVE; Station...  19464.0   \n",
       "7972   MARK LN & DEAD END;  UPPER MERION; Station 317...      NaN   \n",
       "7973   BANNOCKBURN AVE & S SPRING GARDEN ST;  AMBLER;...  19002.0   \n",
       "21174  2ND AVE & E MAIN ST; COLLEGEVILLE; 2016-02-01 ...  19426.0   \n",
       "21175  MERION AVE & W LANCASTER AVE;  LOWER MERION; S...  19010.0   \n",
       "21176  HORSHAM RD & GREEN TREE TAVERN RD;  HORSHAM; S...  19454.0   \n",
       "21177  FAYETTE ST & W 11TH AVE;  CONSHOHOCKEN; Statio...  19428.0   \n",
       "21178  MAIN ST & OLD SUMNEYTOWN PIKE;  LOWER SALFORD;...  19438.0   \n",
       "32641  RUSSELL RD & ANDREA DR;  UPPER MORELAND; Stati...  19090.0   \n",
       "32642  MAIN ST & W 5TH ST; RED HILL; 2016-03-01 @ 00:...  18076.0   \n",
       "32643  MAIN ST & W 8TH ST; RED HILL; 2016-03-01 @ 00:...  18076.0   \n",
       "32644  ARCOLA RD & PERKIOMEN TRL; UPPER PROVIDENCE; 2...  19426.0   \n",
       "32645  GROVE LN & DEAD END;  UPPER MERION; Station 31...      NaN   \n",
       "43742  YORK RD & TURNPIKE OVERPASS; UPPER MORELAND; 2...  19040.0   \n",
       "43743  SCHUYLKILL EXPY & RR UNDERPASS; LOWER MERION; ...      NaN   \n",
       "43744  MORRIS RD & HENNING WAY; TOWAMENCIN; 2016-04-0...  19446.0   \n",
       "43745  MORRIS RD & HENNING WAY; TOWAMENCIN; 2016-04-0...  19446.0   \n",
       "43746  RIDGEVIEW DR & DEAD END; HORSHAM; 2016-04-01 @...      NaN   \n",
       "55068  MAIN ST & E MONTGOMERY AVE;  NORTH WALES; Stat...  19454.0   \n",
       "55069  PENROSE AVE & BEECH AVE;  CHELTENHAM; Station ...  19027.0   \n",
       "55070  MAIN ST & 6TH AVE;  COLLEGEVILLE; Station 324;...  19426.0   \n",
       "55071  MAIN CAMPUS DR & DEAD END;  COLLEGEVILLE; Stat...  19426.0   \n",
       "55072  BETHLEHEM PIKE & ORVILLA RD; BUCKS COUNTY; 201...  19440.0   \n",
       "66491  STENTON AVE & NEWTON ST;  SPRINGFIELD; Station...  19038.0   \n",
       "66492  BETHLEHEM PIKE & TAYLOR RD;  MONTGOMERY; Stati...  19446.0   \n",
       "66493  STUMP RD & STEEPLECHASE DR;  MONTGOMERY; Stati...  19454.0   \n",
       "66494  FOREST AVE & GLEN MAWR DR;  AMBLER; Station 35...  19002.0   \n",
       "66495  RT309 EXPY & PAPER MILL RD UNDERPASS; SPRINGFI...      NaN   \n",
       "78277  CHANDLER LN & WENTZ LN; SKIPPACK; 2016-07-01 @...  19473.0   \n",
       "78278  LONGCHAMP DR & DEAD END;  FRANCONIA; Station 3...      NaN   \n",
       "78279  KING ST & PENN ST;  POTTSTOWN; Station 329; 20...  19464.0   \n",
       "78280  JUNIPER ST & W BROWN ST; NORRISTOWN; 2016-07-0...  19401.0   \n",
       "78281  2ND ST & DOTTS ST;  PENNSBURG; Station 369; 20...  18073.0   \n",
       "90414  CANTERBURY RD & HEMLOCK CIR;  ABINGTON; Statio...  19001.0   \n",
       "90415  NORWOOD ST & WHITAKER AVE;  UPPER PROVIDENCE; ...  19453.0   \n",
       "90416  EGYPT RD & LONGFORD RD; UPPER PROVIDENCE; 2016...  19460.0   \n",
       "90417  GERMANTOWN PIKE & BRIDLE PATH RD;  EAST NORRIT...  19403.0   \n",
       "90418  TANNER AVE & JEFFERSON AVE;  HATBORO; Station ...  19040.0   \n",
       "\n",
       "                                      title           timeStamp  \\\n",
       "0                    EMS: BACK PAINS/INJURY 2015-12-10 17:40:00   \n",
       "1                   EMS: DIABETIC EMERGENCY 2015-12-10 17:40:00   \n",
       "2                       Fire: GAS-ODOR/LEAK 2015-12-10 17:40:00   \n",
       "3                    EMS: CARDIAC EMERGENCY 2015-12-10 17:40:01   \n",
       "4                            EMS: DIZZINESS 2015-12-10 17:40:01   \n",
       "7969                    EMS: ASSAULT VICTIM 2016-01-01 00:12:01   \n",
       "7970                       EMS: FALL VICTIM 2016-01-01 00:17:00   \n",
       "7971                   EMS: ABDOMINAL PAINS 2016-01-01 00:22:00   \n",
       "7972             EMS: ALTERED MENTAL STATUS 2016-01-01 00:27:01   \n",
       "7973                EMS: DIABETIC EMERGENCY 2016-01-01 00:32:01   \n",
       "21174  Traffic: HAZARDOUS ROAD CONDITIONS - 2016-02-01 00:42:00   \n",
       "21175                  EMS: ABDOMINAL PAINS 2016-02-01 00:47:00   \n",
       "21176                EMS: CARDIAC EMERGENCY 2016-02-01 00:52:00   \n",
       "21177                        EMS: DIZZINESS 2016-02-01 00:57:00   \n",
       "21178            EMS: RESPIRATORY EMERGENCY 2016-02-01 00:57:00   \n",
       "32641                     EMS: HEMORRHAGING 2016-03-01 00:07:01   \n",
       "32642           Traffic: VEHICLE ACCIDENT - 2016-03-01 00:12:01   \n",
       "32643           Traffic: VEHICLE ACCIDENT - 2016-03-01 00:17:01   \n",
       "32644           Traffic: VEHICLE ACCIDENT - 2016-03-01 00:47:01   \n",
       "32645                  EMS: NAUSEA/VOMITING 2016-03-01 00:57:01   \n",
       "43742           Traffic: ROAD OBSTRUCTION - 2016-04-01 00:07:01   \n",
       "43743           Traffic: DISABLED VEHICLE - 2016-04-01 00:17:00   \n",
       "43744           Traffic: VEHICLE ACCIDENT - 2016-04-01 00:17:00   \n",
       "43745           Traffic: VEHICLE ACCIDENT - 2016-04-01 00:26:01   \n",
       "43746                      Fire: FIRE ALARM 2016-04-01 00:27:00   \n",
       "55068                  EMS: ABDOMINAL PAINS 2016-05-01 00:02:01   \n",
       "55069            EMS: RESPIRATORY EMERGENCY 2016-05-01 00:02:01   \n",
       "55070                         EMS: OVERDOSE 2016-05-01 00:02:02   \n",
       "55071                         EMS: OVERDOSE 2016-05-01 00:07:01   \n",
       "55072           Traffic: VEHICLE ACCIDENT - 2016-05-01 00:07:01   \n",
       "66491                      EMS: HEAD INJURY 2016-06-01 00:12:00   \n",
       "66492                     EMS: HEMORRHAGING 2016-06-01 00:12:00   \n",
       "66493                  EMS: ABDOMINAL PAINS 2016-06-01 00:12:01   \n",
       "66494                  EMS: NAUSEA/VOMITING 2016-06-01 00:17:00   \n",
       "66495           Traffic: DISABLED VEHICLE - 2016-06-01 00:46:00   \n",
       "78277                  Fire: CARDIAC ARREST 2016-07-01 00:06:01   \n",
       "78278                EMS: CARDIAC EMERGENCY 2016-07-01 00:12:00   \n",
       "78279            EMS: RESPIRATORY EMERGENCY 2016-07-01 00:17:00   \n",
       "78280              Fire: FIRE INVESTIGATION 2016-07-01 00:31:00   \n",
       "78281                     EMS: HEMORRHAGING 2016-07-01 00:32:00   \n",
       "90414        EMS: UNKNOWN MEDICAL EMERGENCY 2016-08-01 00:12:00   \n",
       "90415                         EMS: OVERDOSE 2016-08-01 00:17:00   \n",
       "90416           Traffic: DISABLED VEHICLE - 2016-08-01 00:26:00   \n",
       "90417                  EMS: ABDOMINAL PAINS 2016-08-01 00:32:00   \n",
       "90418                         EMS: OVERDOSE 2016-08-01 00:46:00   \n",
       "\n",
       "                     twp                                  addr  e   Reason  \\\n",
       "0            NEW HANOVER                REINDEER CT & DEAD END  1      EMS   \n",
       "1      HATFIELD TOWNSHIP            BRIAR PATH & WHITEMARSH LN  1      EMS   \n",
       "2             NORRISTOWN                              HAWS AVE  1     Fire   \n",
       "3             NORRISTOWN                    AIRY ST & SWEDE ST  1      EMS   \n",
       "4       LOWER POTTSGROVE              CHERRYWOOD CT & DEAD END  1      EMS   \n",
       "7969          NORRISTOWN        ROSEMONT AVE & W WASHINGTON ST  1      EMS   \n",
       "7970       EAST NORRITON          GERMANTOWN PIKE & HANNAH AVE  1      EMS   \n",
       "7971     WEST POTTSGROVE                   VINE ST & CENTER ST  1      EMS   \n",
       "7972        UPPER MERION                    MARK LN & DEAD END  1      EMS   \n",
       "7973              AMBLER  BANNOCKBURN AVE & S SPRING GARDEN ST  1      EMS   \n",
       "21174       COLLEGEVILLE                   2ND AVE & E MAIN ST  1  Traffic   \n",
       "21175       LOWER MERION          MERION AVE & W LANCASTER AVE  1      EMS   \n",
       "21176            HORSHAM     HORSHAM RD & GREEN TREE TAVERN RD  1      EMS   \n",
       "21177       CONSHOHOCKEN               FAYETTE ST & W 11TH AVE  1      EMS   \n",
       "21178      LOWER SALFORD         MAIN ST & OLD SUMNEYTOWN PIKE  1      EMS   \n",
       "32641     UPPER MORELAND                RUSSELL RD & ANDREA DR  1      EMS   \n",
       "32642           RED HILL                    MAIN ST & W 5TH ST  1  Traffic   \n",
       "32643           RED HILL                    MAIN ST & W 8TH ST  1  Traffic   \n",
       "32644   UPPER PROVIDENCE             ARCOLA RD & PERKIOMEN TRL  1  Traffic   \n",
       "32645       UPPER MERION                   GROVE LN & DEAD END  1      EMS   \n",
       "43742     UPPER MORELAND           YORK RD & TURNPIKE OVERPASS  1  Traffic   \n",
       "43743       LOWER MERION        SCHUYLKILL EXPY & RR UNDERPASS  1  Traffic   \n",
       "43744         TOWAMENCIN               MORRIS RD & HENNING WAY  1  Traffic   \n",
       "43745         TOWAMENCIN               MORRIS RD & HENNING WAY  1  Traffic   \n",
       "43746            HORSHAM               RIDGEVIEW DR & DEAD END  1     Fire   \n",
       "55068        NORTH WALES            MAIN ST & E MONTGOMERY AVE  1      EMS   \n",
       "55069         CHELTENHAM               PENROSE AVE & BEECH AVE  1      EMS   \n",
       "55070       COLLEGEVILLE                     MAIN ST & 6TH AVE  1      EMS   \n",
       "55071       COLLEGEVILLE             MAIN CAMPUS DR & DEAD END  1      EMS   \n",
       "55072       BUCKS COUNTY           BETHLEHEM PIKE & ORVILLA RD  1  Traffic   \n",
       "66491        SPRINGFIELD               STENTON AVE & NEWTON ST  1      EMS   \n",
       "66492         MONTGOMERY            BETHLEHEM PIKE & TAYLOR RD  1      EMS   \n",
       "66493         MONTGOMERY            STUMP RD & STEEPLECHASE DR  1      EMS   \n",
       "66494             AMBLER             FOREST AVE & GLEN MAWR DR  1      EMS   \n",
       "66495        SPRINGFIELD  RT309 EXPY & PAPER MILL RD UNDERPASS  1  Traffic   \n",
       "78277           SKIPPACK                CHANDLER LN & WENTZ LN  1     Fire   \n",
       "78278          FRANCONIA               LONGCHAMP DR & DEAD END  1      EMS   \n",
       "78279          POTTSTOWN                     KING ST & PENN ST  1      EMS   \n",
       "78280         NORRISTOWN               JUNIPER ST & W BROWN ST  1     Fire   \n",
       "78281          PENNSBURG                     2ND ST & DOTTS ST  1      EMS   \n",
       "90414           ABINGTON           CANTERBURY RD & HEMLOCK CIR  1      EMS   \n",
       "90415   UPPER PROVIDENCE             NORWOOD ST & WHITAKER AVE  1      EMS   \n",
       "90416   UPPER PROVIDENCE                EGYPT RD & LONGFORD RD  1  Traffic   \n",
       "90417      EAST NORRITON      GERMANTOWN PIKE & BRIDLE PATH RD  1      EMS   \n",
       "90418            HATBORO            TANNER AVE & JEFFERSON AVE  1      EMS   \n",
       "\n",
       "       Hour  Month Day of Week  \n",
       "0        17     12         Thu  \n",
       "1        17     12         Thu  \n",
       "2        17     12         Thu  \n",
       "3        17     12         Thu  \n",
       "4        17     12         Thu  \n",
       "7969      0      1         Fri  \n",
       "7970      0      1         Fri  \n",
       "7971      0      1         Fri  \n",
       "7972      0      1         Fri  \n",
       "7973      0      1         Fri  \n",
       "21174     0      2         Mon  \n",
       "21175     0      2         Mon  \n",
       "21176     0      2         Mon  \n",
       "21177     0      2         Mon  \n",
       "21178     0      2         Mon  \n",
       "32641     0      3         Tue  \n",
       "32642     0      3         Tue  \n",
       "32643     0      3         Tue  \n",
       "32644     0      3         Tue  \n",
       "32645     0      3         Tue  \n",
       "43742     0      4         Fri  \n",
       "43743     0      4         Fri  \n",
       "43744     0      4         Fri  \n",
       "43745     0      4         Fri  \n",
       "43746     0      4         Fri  \n",
       "55068     0      5         Sun  \n",
       "55069     0      5         Sun  \n",
       "55070     0      5         Sun  \n",
       "55071     0      5         Sun  \n",
       "55072     0      5         Sun  \n",
       "66491     0      6         Wed  \n",
       "66492     0      6         Wed  \n",
       "66493     0      6         Wed  \n",
       "66494     0      6         Wed  \n",
       "66495     0      6         Wed  \n",
       "78277     0      7         Fri  \n",
       "78278     0      7         Fri  \n",
       "78279     0      7         Fri  \n",
       "78280     0      7         Fri  \n",
       "78281     0      7         Fri  \n",
       "90414     0      8         Mon  \n",
       "90415     0      8         Mon  \n",
       "90416     0      8         Mon  \n",
       "90417     0      8         Mon  \n",
       "90418     0      8         Mon  "
      ]
     },
     "execution_count": 15,
     "metadata": {},
     "output_type": "execute_result"
    }
   ],
   "source": [
    "#Creating a gropuby object called byMonth, where i group the DataFrame by the month column and use the count() method for aggregation\n",
    "byMonth = df.groupby(\"Month\")\n",
    "byMonth.count()\n",
    "byMonth.head()"
   ]
  },
  {
   "cell_type": "code",
   "execution_count": 17,
   "metadata": {},
   "outputs": [
    {
     "data": {
      "text/plain": [
       "<matplotlib.axes._subplots.AxesSubplot at 0x20bd5858cc0>"
      ]
     },
     "execution_count": 17,
     "metadata": {},
     "output_type": "execute_result"
    },
    {
     "data": {
      "image/png": "[encoded data removed]",
      "text/plain": [
       "<Figure size 432x288 with 1 Axes>"
      ]
     },
     "metadata": {
      "needs_background": "light"
     },
     "output_type": "display_data"
    }
   ],
   "source": [
    "byMonth['twp'].plot()"
   ]
  },
  {
   "cell_type": "code",
   "execution_count": 18,
   "metadata": {},
   "outputs": [
    {
     "data": {
      "text/plain": [
       "<seaborn.axisgrid.FacetGrid at 0x20bd589d8d0>"
      ]
     },
     "execution_count": 18,
     "metadata": {},
     "output_type": "execute_result"
    },
    {
     "data": {
      "image/png": "[encoded data removed]",
      "text/plain": [
       "<Figure size 360x360 with 1 Axes>"
      ]
     },
     "metadata": {
      "needs_background": "light"
     },
     "output_type": "display_data"
    }
   ],
   "source": [
    "sns.lmplot(x='Month',y='twp',data=byMonth.reset_index())"
   ]
  },
  {
   "cell_type": "code",
   "execution_count": 19,
   "metadata": {},
   "outputs": [],
   "source": [
    "#Creating a new column called 'Date' that contains the date from the timeStamp column\n",
    "t = df['timeStamp'].iloc[0]\n",
    "df['Date'] = df['timeStamp'].apply(lambda t:t.date())"
   ]
  },
  {
   "cell_type": "code",
   "execution_count": 20,
   "metadata": {},
   "outputs": [
    {
     "data": {
      "image/png": "[encoded data removed]",
      "text/plain": [
       "<Figure size 432x288 with 1 Axes>"
      ]
     },
     "metadata": {
      "needs_background": "light"
     },
     "output_type": "display_data"
    }
   ],
   "source": [
    "df.groupby('Date').count()['lat'].plot()\n",
    "plt.tight_layout()"
   ]
  },
  {
   "cell_type": "code",
   "execution_count": 22,
   "metadata": {},
   "outputs": [
    {
     "data": {
      "image/png": "[encoded data removed]",
      "text/plain": [
       "<Figure size 432x288 with 1 Axes>"
      ]
     },
     "metadata": {
      "needs_background": "light"
     },
     "output_type": "display_data"
    }
   ],
   "source": [
    "df[df['Reason']=='Traffic'].groupby('Date').count()['lat'].plot(title='Traffic')\n",
    "plt.tight_layout()                                                                                      "
   ]
  },
  {
   "cell_type": "code",
   "execution_count": 23,
   "metadata": {},
   "outputs": [
    {
     "data": {
      "image/png": "[encoded data removed]",
      "text/plain": [
       "<Figure size 432x288 with 1 Axes>"
      ]
     },
     "metadata": {
      "needs_background": "light"
     },
     "output_type": "display_data"
    }
   ],
   "source": [
    "df[df['Reason']=='Fire'].groupby('Date').count()['lat'].plot(title='Fire')\n",
    "plt.tight_layout()"
   ]
  },
  {
   "cell_type": "code",
   "execution_count": 24,
   "metadata": {},
   "outputs": [
    {
     "data": {
      "image/png": "[encoded data removed]",
      "text/plain": [
       "<Figure size 432x288 with 1 Axes>"
      ]
     },
     "metadata": {
      "needs_background": "light"
     },
     "output_type": "display_data"
    }
   ],
   "source": [
    "df[df['Reason']=='EMS'].groupby('Date').count()['lat'].plot(title='EMS')\n",
    "plt.tight_layout()  "
   ]
  },
  {
   "cell_type": "code",
   "execution_count": 26,
   "metadata": {},
   "outputs": [],
   "source": [
    "#Restructuring the dataframe so that the columns become the Hours and the Index becomes the Day of the Week\n",
    "byDayHour = df.groupby(by=['Day of Week','Hour']).count()['Reason'].unstack()"
   ]
  },
  {
   "cell_type": "code",
   "execution_count": 27,
   "metadata": {},
   "outputs": [
    {
     "data": {
      "text/plain": [
       "<matplotlib.axes._subplots.AxesSubplot at 0x20bd5c3e160>"
      ]
     },
     "execution_count": 27,
     "metadata": {},
     "output_type": "execute_result"
    },
    {
     "data": {
      "image/png": "[encoded data removed]",
      "text/plain": [
       "<Figure size 864x432 with 2 Axes>"
      ]
     },
     "metadata": {
      "needs_background": "light"
     },
     "output_type": "display_data"
    }
   ],
   "source": [
    "plt.figure(figsize=(12,6))\n",
    "sns.heatmap(byDayHour,cmap='viridis')"
   ]
  },
  {
   "cell_type": "code",
   "execution_count": 28,
   "metadata": {},
   "outputs": [
    {
     "data": {
      "text/plain": [
       "<seaborn.matrix.ClusterGrid at 0x20bd61aaac8>"
      ]
     },
     "execution_count": 28,
     "metadata": {},
     "output_type": "execute_result"
    },
    {
     "data": {
      "image/png": "[encoded data removed]",
      "text/plain": [
       "<Figure size 720x720 with 4 Axes>"
      ]
     },
     "metadata": {
      "needs_background": "light"
     },
     "output_type": "display_data"
    }
   ],
   "source": [
    "sns.clustermap(byDayHour,cmap='viridis')"
   ]
  },
  {
   "cell_type": "code",
   "execution_count": 29,
   "metadata": {},
   "outputs": [
    {
     "data": {
      "text/html": [
       "<div>\n",
       "<style scoped>\n",
       "    .dataframe tbody tr th:only-of-type {\n",
       "        vertical-align: middle;\n",
       "    }\n",
       "\n",
       "    .dataframe tbody tr th {\n",
       "        vertical-align: top;\n",
       "    }\n",
       "\n",
       "    .dataframe thead th {\n",
       "        text-align: right;\n",
       "    }\n",
       "</style>\n",
       "<table border=\"1\" class=\"dataframe\">\n",
       "  <thead>\n",
       "    <tr style=\"text-align: right;\">\n",
       "      <th>Month</th>\n",
       "      <th>1</th>\n",
       "      <th>2</th>\n",
       "      <th>3</th>\n",
       "      <th>4</th>\n",
       "      <th>5</th>\n",
       "      <th>6</th>\n",
       "      <th>7</th>\n",
       "      <th>8</th>\n",
       "      <th>12</th>\n",
       "    </tr>\n",
       "    <tr>\n",
       "      <th>Day of Week</th>\n",
       "      <th></th>\n",
       "      <th></th>\n",
       "      <th></th>\n",
       "      <th></th>\n",
       "      <th></th>\n",
       "      <th></th>\n",
       "      <th></th>\n",
       "      <th></th>\n",
       "      <th></th>\n",
       "    </tr>\n",
       "  </thead>\n",
       "  <tbody>\n",
       "    <tr>\n",
       "      <th>Fri</th>\n",
       "      <td>1970</td>\n",
       "      <td>1581</td>\n",
       "      <td>1525</td>\n",
       "      <td>1958</td>\n",
       "      <td>1730</td>\n",
       "      <td>1649</td>\n",
       "      <td>2045</td>\n",
       "      <td>1310</td>\n",
       "      <td>1065</td>\n",
       "    </tr>\n",
       "    <tr>\n",
       "      <th>Mon</th>\n",
       "      <td>1727</td>\n",
       "      <td>1964</td>\n",
       "      <td>1535</td>\n",
       "      <td>1598</td>\n",
       "      <td>1779</td>\n",
       "      <td>1617</td>\n",
       "      <td>1692</td>\n",
       "      <td>1511</td>\n",
       "      <td>1257</td>\n",
       "    </tr>\n",
       "    <tr>\n",
       "      <th>Sat</th>\n",
       "      <td>2291</td>\n",
       "      <td>1441</td>\n",
       "      <td>1266</td>\n",
       "      <td>1734</td>\n",
       "      <td>1444</td>\n",
       "      <td>1388</td>\n",
       "      <td>1695</td>\n",
       "      <td>1099</td>\n",
       "      <td>978</td>\n",
       "    </tr>\n",
       "    <tr>\n",
       "      <th>Sun</th>\n",
       "      <td>1960</td>\n",
       "      <td>1229</td>\n",
       "      <td>1102</td>\n",
       "      <td>1488</td>\n",
       "      <td>1424</td>\n",
       "      <td>1333</td>\n",
       "      <td>1672</td>\n",
       "      <td>1021</td>\n",
       "      <td>907</td>\n",
       "    </tr>\n",
       "    <tr>\n",
       "      <th>Thu</th>\n",
       "      <td>1584</td>\n",
       "      <td>1596</td>\n",
       "      <td>1900</td>\n",
       "      <td>1601</td>\n",
       "      <td>1590</td>\n",
       "      <td>2065</td>\n",
       "      <td>1646</td>\n",
       "      <td>1230</td>\n",
       "      <td>1266</td>\n",
       "    </tr>\n",
       "  </tbody>\n",
       "</table>\n",
       "</div>"
      ],
      "text/plain": [
       "Month          1     2     3     4     5     6     7     8     12\n",
       "Day of Week                                                      \n",
       "Fri          1970  1581  1525  1958  1730  1649  2045  1310  1065\n",
       "Mon          1727  1964  1535  1598  1779  1617  1692  1511  1257\n",
       "Sat          2291  1441  1266  1734  1444  1388  1695  1099   978\n",
       "Sun          1960  1229  1102  1488  1424  1333  1672  1021   907\n",
       "Thu          1584  1596  1900  1601  1590  2065  1646  1230  1266"
      ]
     },
     "execution_count": 29,
     "metadata": {},
     "output_type": "execute_result"
    }
   ],
   "source": [
    "#Making the DataFrame show the Month as the column\n",
    "byDayMonth = df.groupby(by=['Day of Week','Month']).count()['Reason'].unstack()\n",
    "byDayMonth.head()"
   ]
  },
  {
   "cell_type": "code",
   "execution_count": 30,
   "metadata": {},
   "outputs": [
    {
     "data": {
      "text/plain": [
       "<matplotlib.axes._subplots.AxesSubplot at 0x20bd6154da0>"
      ]
     },
     "execution_count": 30,
     "metadata": {},
     "output_type": "execute_result"
    },
    {
     "data": {
      "image/png": "[encoded data removed]",
      "text/plain": [
       "<Figure size 864x432 with 2 Axes>"
      ]
     },
     "metadata": {
      "needs_background": "light"
     },
     "output_type": "display_data"
    }
   ],
   "source": [
    "plt.figure(figsize=(12,6))\n",
    "sns.heatmap(byDayMonth,cmap='viridis')"
   ]
  },
  {
   "cell_type": "code",
   "execution_count": 31,
   "metadata": {},
   "outputs": [
    {
     "data": {
      "text/plain": [
       "<seaborn.matrix.ClusterGrid at 0x20bd61aaba8>"
      ]
     },
     "execution_count": 31,
     "metadata": {},
     "output_type": "execute_result"
    },
    {
     "data": {
      "image/png": "[encoded data removed]",
      "text/plain": [
       "<Figure size 720x720 with 4 Axes>"
      ]
     },
     "metadata": {
      "needs_background": "light"
     },
     "output_type": "display_data"
    }
   ],
   "source": [
    "sns.clustermap(byDayMonth,cmap='viridis') "
   ]
  },
  {
   "cell_type": "code",
   "execution_count": null,
   "metadata": {},
   "outputs": [],
   "source": []
  }
 ],
 "metadata": {
  "kernelspec": {
   "display_name": "Python 3",
   "language": "python",
   "name": "python3"
  },
  "language_info": {
   "codemirror_mode": {
    "name": "ipython",
    "version": 3
   },
   "file_extension": ".py",
   "mimetype": "text/x-python",
   "name": "python",
   "nbconvert_exporter": "python",
   "pygments_lexer": "ipython3",
   "version": "3.7.3"
  }
 },
 "nbformat": 4,
 "nbformat_minor": 2
}
