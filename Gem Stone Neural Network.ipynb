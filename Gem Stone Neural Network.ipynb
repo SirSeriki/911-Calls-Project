{
  "nbformat": 4,
  "nbformat_minor": 0,
  "metadata": {
    "kernelspec": {
      "display_name": "Python 3",
      "language": "python",
      "name": "python3"
    },
    "language_info": {
      "codemirror_mode": {
        "name": "ipython",
        "version": 3
      },
      "file_extension": ".py",
      "mimetype": "text/x-python",
      "name": "python",
      "nbconvert_exporter": "python",
      "pygments_lexer": "ipython3",
      "version": "3.7.3"
    },
    "colab": {
      "name": "Neural Network.ipynb",
      "provenance": [],
      "include_colab_link": true
    }
  },
  "cells": [
    {
      "cell_type": "markdown",
      "metadata": {
        "id": "view-in-github",
        "colab_type": "text"
      },
      "source": [
        "<a href=\"https://colab.research.google.com/github/SirSeriki/911-Calls-Project/blob/master/Gem%20Stone%20Neural%20Network.ipynb\" target=\"_parent\"><img src=\"https://colab.research.google.com/assets/colab-badge.svg\" alt=\"Open In Colab\"/></a>"
      ]
    },
    {
      "cell_type": "code",
      "metadata": {
        "id": "UXUL04uchg8E",
        "colab_type": "code",
        "outputId": "49d1d6cc-a6aa-40c3-cb83-c23374e6da31",
        "colab": {
          "resources": {
            "http://localhost:8080/nbextensions/google.colab/files.js": {
              "data": "Ly8gQ29weXJpZ2h0IDIwMTcgR29vZ2xlIExMQwovLwovLyBMaWNlbnNlZCB1bmRlciB0aGUgQXBhY2hlIExpY2Vuc2UsIFZlcnNpb24gMi4wICh0aGUgIkxpY2Vuc2UiKTsKLy8geW91IG1heSBub3QgdXNlIHRoaXMgZmlsZSBleGNlcHQgaW4gY29tcGxpYW5jZSB3aXRoIHRoZSBMaWNlbnNlLgovLyBZb3UgbWF5IG9idGFpbiBhIGNvcHkgb2YgdGhlIExpY2Vuc2UgYXQKLy8KLy8gICAgICBodHRwOi8vd3d3LmFwYWNoZS5vcmcvbGljZW5zZXMvTElDRU5TRS0yLjAKLy8KLy8gVW5sZXNzIHJlcXVpcmVkIGJ5IGFwcGxpY2FibGUgbGF3IG9yIGFncmVlZCB0byBpbiB3cml0aW5nLCBzb2Z0d2FyZQovLyBkaXN0cmlidXRlZCB1bmRlciB0aGUgTGljZW5zZSBpcyBkaXN0cmlidXRlZCBvbiBhbiAiQVMgSVMiIEJBU0lTLAovLyBXSVRIT1VUIFdBUlJBTlRJRVMgT1IgQ09ORElUSU9OUyBPRiBBTlkgS0lORCwgZWl0aGVyIGV4cHJlc3Mgb3IgaW1wbGllZC4KLy8gU2VlIHRoZSBMaWNlbnNlIGZvciB0aGUgc3BlY2lmaWMgbGFuZ3VhZ2UgZ292ZXJuaW5nIHBlcm1pc3Npb25zIGFuZAovLyBsaW1pdGF0aW9ucyB1bmRlciB0aGUgTGljZW5zZS4KCi8qKgogKiBAZmlsZW92ZXJ2aWV3IEhlbHBlcnMgZm9yIGdvb2dsZS5jb2xhYiBQeXRob24gbW9kdWxlLgogKi8KKGZ1bmN0aW9uKHNjb3BlKSB7CmZ1bmN0aW9uIHNwYW4odGV4dCwgc3R5bGVBdHRyaWJ1dGVzID0ge30pIHsKICBjb25zdCBlbGVtZW50ID0gZG9jdW1lbnQuY3JlYXRlRWxlbWVudCgnc3BhbicpOwogIGVsZW1lbnQudGV4dENvbnRlbnQgPSB0ZXh0OwogIGZvciAoY29uc3Qga2V5IG9mIE9iamVjdC5rZXlzKHN0eWxlQXR0cmlidXRlcykpIHsKICAgIGVsZW1lbnQuc3R5bGVba2V5XSA9IHN0eWxlQXR0cmlidXRlc1trZXldOwogIH0KICByZXR1cm4gZWxlbWVudDsKfQoKLy8gTWF4IG51bWJlciBvZiBieXRlcyB3aGljaCB3aWxsIGJlIHVwbG9hZGVkIGF0IGEgdGltZS4KY29uc3QgTUFYX1BBWUxPQURfU0laRSA9IDEwMCAqIDEwMjQ7Ci8vIE1heCBhbW91bnQgb2YgdGltZSB0byBibG9jayB3YWl0aW5nIGZvciB0aGUgdXNlci4KY29uc3QgRklMRV9DSEFOR0VfVElNRU9VVF9NUyA9IDMwICogMTAwMDsKCmZ1bmN0aW9uIF91cGxvYWRGaWxlcyhpbnB1dElkLCBvdXRwdXRJZCkgewogIGNvbnN0IHN0ZXBzID0gdXBsb2FkRmlsZXNTdGVwKGlucHV0SWQsIG91dHB1dElkKTsKICBjb25zdCBvdXRwdXRFbGVtZW50ID0gZG9jdW1lbnQuZ2V0RWxlbWVudEJ5SWQob3V0cHV0SWQpOwogIC8vIENhY2hlIHN0ZXBzIG9uIHRoZSBvdXRwdXRFbGVtZW50IHRvIG1ha2UgaXQgYXZhaWxhYmxlIGZvciB0aGUgbmV4dCBjYWxsCiAgLy8gdG8gdXBsb2FkRmlsZXNDb250aW51ZSBmcm9tIFB5dGhvbi4KICBvdXRwdXRFbGVtZW50LnN0ZXBzID0gc3RlcHM7CgogIHJldHVybiBfdXBsb2FkRmlsZXNDb250aW51ZShvdXRwdXRJZCk7Cn0KCi8vIFRoaXMgaXMgcm91Z2hseSBhbiBhc3luYyBnZW5lcmF0b3IgKG5vdCBzdXBwb3J0ZWQgaW4gdGhlIGJyb3dzZXIgeWV0KSwKLy8gd2hlcmUgdGhlcmUgYXJlIG11bHRpcGxlIGFzeW5jaHJvbm91cyBzdGVwcyBhbmQgdGhlIFB5dGhvbiBzaWRlIGlzIGdvaW5nCi8vIHRvIHBvbGwgZm9yIGNvbXBsZXRpb24gb2YgZWFjaCBzdGVwLgovLyBUaGlzIHVzZXMgYSBQcm9taXNlIHRvIGJsb2NrIHRoZSBweXRob24gc2lkZSBvbiBjb21wbGV0aW9uIG9mIGVhY2ggc3RlcCwKLy8gdGhlbiBwYXNzZXMgdGhlIHJlc3VsdCBvZiB0aGUgcHJldmlvdXMgc3RlcCBhcyB0aGUgaW5wdXQgdG8gdGhlIG5leHQgc3RlcC4KZnVuY3Rpb24gX3VwbG9hZEZpbGVzQ29udGludWUob3V0cHV0SWQpIHsKICBjb25zdCBvdXRwdXRFbGVtZW50ID0gZG9jdW1lbnQuZ2V0RWxlbWVudEJ5SWQob3V0cHV0SWQpOwogIGNvbnN0IHN0ZXBzID0gb3V0cHV0RWxlbWVudC5zdGVwczsKCiAgY29uc3QgbmV4dCA9IHN0ZXBzLm5leHQob3V0cHV0RWxlbWVudC5sYXN0UHJvbWlzZVZhbHVlKTsKICByZXR1cm4gUHJvbWlzZS5yZXNvbHZlKG5leHQudmFsdWUucHJvbWlzZSkudGhlbigodmFsdWUpID0+IHsKICAgIC8vIENhY2hlIHRoZSBsYXN0IHByb21pc2UgdmFsdWUgdG8gbWFrZSBpdCBhdmFpbGFibGUgdG8gdGhlIG5leHQKICAgIC8vIHN0ZXAgb2YgdGhlIGdlbmVyYXRvci4KICAgIG91dHB1dEVsZW1lbnQubGFzdFByb21pc2VWYWx1ZSA9IHZhbHVlOwogICAgcmV0dXJuIG5leHQudmFsdWUucmVzcG9uc2U7CiAgfSk7Cn0KCi8qKgogKiBHZW5lcmF0b3IgZnVuY3Rpb24gd2hpY2ggaXMgY2FsbGVkIGJldHdlZW4gZWFjaCBhc3luYyBzdGVwIG9mIHRoZSB1cGxvYWQKICogcHJvY2Vzcy4KICogQHBhcmFtIHtzdHJpbmd9IGlucHV0SWQgRWxlbWVudCBJRCBvZiB0aGUgaW5wdXQgZmlsZSBwaWNrZXIgZWxlbWVudC4KICogQHBhcmFtIHtzdHJpbmd9IG91dHB1dElkIEVsZW1lbnQgSUQgb2YgdGhlIG91dHB1dCBkaXNwbGF5LgogKiBAcmV0dXJuIHshSXRlcmFibGU8IU9iamVjdD59IEl0ZXJhYmxlIG9mIG5leHQgc3RlcHMuCiAqLwpmdW5jdGlvbiogdXBsb2FkRmlsZXNTdGVwKGlucHV0SWQsIG91dHB1dElkKSB7CiAgY29uc3QgaW5wdXRFbGVtZW50ID0gZG9jdW1lbnQuZ2V0RWxlbWVudEJ5SWQoaW5wdXRJZCk7CiAgaW5wdXRFbGVtZW50LmRpc2FibGVkID0gZmFsc2U7CgogIGNvbnN0IG91dHB1dEVsZW1lbnQgPSBkb2N1bWVudC5nZXRFbGVtZW50QnlJZChvdXRwdXRJZCk7CiAgb3V0cHV0RWxlbWVudC5pbm5lckhUTUwgPSAnJzsKCiAgY29uc3QgcGlja2VkUHJvbWlzZSA9IG5ldyBQcm9taXNlKChyZXNvbHZlKSA9PiB7CiAgICBpbnB1dEVsZW1lbnQuYWRkRXZlbnRMaXN0ZW5lcignY2hhbmdlJywgKGUpID0+IHsKICAgICAgcmVzb2x2ZShlLnRhcmdldC5maWxlcyk7CiAgICB9KTsKICB9KTsKCiAgY29uc3QgY2FuY2VsID0gZG9jdW1lbnQuY3JlYXRlRWxlbWVudCgnYnV0dG9uJyk7CiAgaW5wdXRFbGVtZW50LnBhcmVudEVsZW1lbnQuYXBwZW5kQ2hpbGQoY2FuY2VsKTsKICBjYW5jZWwudGV4dENvbnRlbnQgPSAnQ2FuY2VsIHVwbG9hZCc7CiAgY29uc3QgY2FuY2VsUHJvbWlzZSA9IG5ldyBQcm9taXNlKChyZXNvbHZlKSA9PiB7CiAgICBjYW5jZWwub25jbGljayA9ICgpID0+IHsKICAgICAgcmVzb2x2ZShudWxsKTsKICAgIH07CiAgfSk7CgogIC8vIENhbmNlbCB1cGxvYWQgaWYgdXNlciBoYXNuJ3QgcGlja2VkIGFueXRoaW5nIGluIHRpbWVvdXQuCiAgY29uc3QgdGltZW91dFByb21pc2UgPSBuZXcgUHJvbWlzZSgocmVzb2x2ZSkgPT4gewogICAgc2V0VGltZW91dCgoKSA9PiB7CiAgICAgIHJlc29sdmUobnVsbCk7CiAgICB9LCBGSUxFX0NIQU5HRV9USU1FT1VUX01TKTsKICB9KTsKCiAgLy8gV2FpdCBmb3IgdGhlIHVzZXIgdG8gcGljayB0aGUgZmlsZXMuCiAgY29uc3QgZmlsZXMgPSB5aWVsZCB7CiAgICBwcm9taXNlOiBQcm9taXNlLnJhY2UoW3BpY2tlZFByb21pc2UsIHRpbWVvdXRQcm9taXNlLCBjYW5jZWxQcm9taXNlXSksCiAgICByZXNwb25zZTogewogICAgICBhY3Rpb246ICdzdGFydGluZycsCiAgICB9CiAgfTsKCiAgaWYgKCFmaWxlcykgewogICAgcmV0dXJuIHsKICAgICAgcmVzcG9uc2U6IHsKICAgICAgICBhY3Rpb246ICdjb21wbGV0ZScsCiAgICAgIH0KICAgIH07CiAgfQoKICBjYW5jZWwucmVtb3ZlKCk7CgogIC8vIERpc2FibGUgdGhlIGlucHV0IGVsZW1lbnQgc2luY2UgZnVydGhlciBwaWNrcyBhcmUgbm90IGFsbG93ZWQuCiAgaW5wdXRFbGVtZW50LmRpc2FibGVkID0gdHJ1ZTsKCiAgZm9yIChjb25zdCBmaWxlIG9mIGZpbGVzKSB7CiAgICBjb25zdCBsaSA9IGRvY3VtZW50LmNyZWF0ZUVsZW1lbnQoJ2xpJyk7CiAgICBsaS5hcHBlbmQoc3BhbihmaWxlLm5hbWUsIHtmb250V2VpZ2h0OiAnYm9sZCd9KSk7CiAgICBsaS5hcHBlbmQoc3BhbigKICAgICAgICBgKCR7ZmlsZS50eXBlIHx8ICduL2EnfSkgLSAke2ZpbGUuc2l6ZX0gYnl0ZXMsIGAgKwogICAgICAgIGBsYXN0IG1vZGlmaWVkOiAkewogICAgICAgICAgICBmaWxlLmxhc3RNb2RpZmllZERhdGUgPyBmaWxlLmxhc3RNb2RpZmllZERhdGUudG9Mb2NhbGVEYXRlU3RyaW5nKCkgOgogICAgICAgICAgICAgICAgICAgICAgICAgICAgICAgICAgICAnbi9hJ30gLSBgKSk7CiAgICBjb25zdCBwZXJjZW50ID0gc3BhbignMCUgZG9uZScpOwogICAgbGkuYXBwZW5kQ2hpbGQocGVyY2VudCk7CgogICAgb3V0cHV0RWxlbWVudC5hcHBlbmRDaGlsZChsaSk7CgogICAgY29uc3QgZmlsZURhdGFQcm9taXNlID0gbmV3IFByb21pc2UoKHJlc29sdmUpID0+IHsKICAgICAgY29uc3QgcmVhZGVyID0gbmV3IEZpbGVSZWFkZXIoKTsKICAgICAgcmVhZGVyLm9ubG9hZCA9IChlKSA9PiB7CiAgICAgICAgcmVzb2x2ZShlLnRhcmdldC5yZXN1bHQpOwogICAgICB9OwogICAgICByZWFkZXIucmVhZEFzQXJyYXlCdWZmZXIoZmlsZSk7CiAgICB9KTsKICAgIC8vIFdhaXQgZm9yIHRoZSBkYXRhIHRvIGJlIHJlYWR5LgogICAgbGV0IGZpbGVEYXRhID0geWllbGQgewogICAgICBwcm9taXNlOiBmaWxlRGF0YVByb21pc2UsCiAgICAgIHJlc3BvbnNlOiB7CiAgICAgICAgYWN0aW9uOiAnY29udGludWUnLAogICAgICB9CiAgICB9OwoKICAgIC8vIFVzZSBhIGNodW5rZWQgc2VuZGluZyB0byBhdm9pZCBtZXNzYWdlIHNpemUgbGltaXRzLiBTZWUgYi82MjExNTY2MC4KICAgIGxldCBwb3NpdGlvbiA9IDA7CiAgICB3aGlsZSAocG9zaXRpb24gPCBmaWxlRGF0YS5ieXRlTGVuZ3RoKSB7CiAgICAgIGNvbnN0IGxlbmd0aCA9IE1hdGgubWluKGZpbGVEYXRhLmJ5dGVMZW5ndGggLSBwb3NpdGlvbiwgTUFYX1BBWUxPQURfU0laRSk7CiAgICAgIGNvbnN0IGNodW5rID0gbmV3IFVpbnQ4QXJyYXkoZmlsZURhdGEsIHBvc2l0aW9uLCBsZW5ndGgpOwogICAgICBwb3NpdGlvbiArPSBsZW5ndGg7CgogICAgICBjb25zdCBiYXNlNjQgPSBidG9hKFN0cmluZy5mcm9tQ2hhckNvZGUuYXBwbHkobnVsbCwgY2h1bmspKTsKICAgICAgeWllbGQgewogICAgICAgIHJlc3BvbnNlOiB7CiAgICAgICAgICBhY3Rpb246ICdhcHBlbmQnLAogICAgICAgICAgZmlsZTogZmlsZS5uYW1lLAogICAgICAgICAgZGF0YTogYmFzZTY0LAogICAgICAgIH0sCiAgICAgIH07CiAgICAgIHBlcmNlbnQudGV4dENvbnRlbnQgPQogICAgICAgICAgYCR7TWF0aC5yb3VuZCgocG9zaXRpb24gLyBmaWxlRGF0YS5ieXRlTGVuZ3RoKSAqIDEwMCl9JSBkb25lYDsKICAgIH0KICB9CgogIC8vIEFsbCBkb25lLgogIHlpZWxkIHsKICAgIHJlc3BvbnNlOiB7CiAgICAgIGFjdGlvbjogJ2NvbXBsZXRlJywKICAgIH0KICB9Owp9CgpzY29wZS5nb29nbGUgPSBzY29wZS5nb29nbGUgfHwge307CnNjb3BlLmdvb2dsZS5jb2xhYiA9IHNjb3BlLmdvb2dsZS5jb2xhYiB8fCB7fTsKc2NvcGUuZ29vZ2xlLmNvbGFiLl9maWxlcyA9IHsKICBfdXBsb2FkRmlsZXMsCiAgX3VwbG9hZEZpbGVzQ29udGludWUsCn07Cn0pKHNlbGYpOwo=",
              "ok": true,
              "headers": [
                [
                  "content-type",
                  "application/javascript"
                ]
              ],
              "status": 200,
              "status_text": ""
            }
          },
          "base_uri": "https://localhost:8080/",
          "height": 130
        }
      },
      "source": [
        "import pandas as pd \n",
        "import numpy as np \n",
        "\n",
        "import seaborn as sns \n",
        "\n",
        "from google.colab import files\n",
        "upload = files.upload()"
      ],
      "execution_count": 0,
      "outputs": [
        {
          "output_type": "stream",
          "text": [
            "/usr/local/lib/python3.6/dist-packages/statsmodels/tools/_testing.py:19: FutureWarning: pandas.util.testing is deprecated. Use the functions in the public API at pandas.testing instead.\n",
            "  import pandas.util.testing as tm\n"
          ],
          "name": "stderr"
        },
        {
          "output_type": "display_data",
          "data": {
            "text/html": [
              "\n",
              "     <input type=\"file\" id=\"files-f5809ed9-517e-4374-be92-65231df800b3\" name=\"files[]\" multiple disabled />\n",
              "     <output id=\"result-f5809ed9-517e-4374-be92-65231df800b3\">\n",
              "      Upload widget is only available when the cell has been executed in the\n",
              "      current browser session. Please rerun this cell to enable.\n",
              "      </output>\n",
              "      <script src=\"/nbextensions/google.colab/files.js\"></script> "
            ],
            "text/plain": [
              "<IPython.core.display.HTML object>"
            ]
          },
          "metadata": {
            "tags": []
          }
        },
        {
          "output_type": "stream",
          "text": [
            "Saving fake_reg.csv to fake_reg.csv\n"
          ],
          "name": "stdout"
        }
      ]
    },
    {
      "cell_type": "code",
      "metadata": {
        "id": "5bD_FX-whg8l",
        "colab_type": "code",
        "colab": {}
      },
      "source": [
        "df = pd.read_csv('fake_reg.csv')"
      ],
      "execution_count": 0,
      "outputs": []
    },
    {
      "cell_type": "code",
      "metadata": {
        "id": "EJaoGVrxhg80",
        "colab_type": "code",
        "outputId": "7edc259a-32de-4b65-f491-bae67959b6aa",
        "colab": {
          "base_uri": "https://localhost:8080/",
          "height": 202
        }
      },
      "source": [
        "df.head()"
      ],
      "execution_count": 0,
      "outputs": [
        {
          "output_type": "execute_result",
          "data": {
            "text/html": [
              "<div>\n",
              "<style scoped>\n",
              "    .dataframe tbody tr th:only-of-type {\n",
              "        vertical-align: middle;\n",
              "    }\n",
              "\n",
              "    .dataframe tbody tr th {\n",
              "        vertical-align: top;\n",
              "    }\n",
              "\n",
              "    .dataframe thead th {\n",
              "        text-align: right;\n",
              "    }\n",
              "</style>\n",
              "<table border=\"1\" class=\"dataframe\">\n",
              "  <thead>\n",
              "    <tr style=\"text-align: right;\">\n",
              "      <th></th>\n",
              "      <th>price</th>\n",
              "      <th>feature1</th>\n",
              "      <th>feature2</th>\n",
              "    </tr>\n",
              "  </thead>\n",
              "  <tbody>\n",
              "    <tr>\n",
              "      <th>0</th>\n",
              "      <td>461.527929</td>\n",
              "      <td>999.787558</td>\n",
              "      <td>999.766096</td>\n",
              "    </tr>\n",
              "    <tr>\n",
              "      <th>1</th>\n",
              "      <td>548.130011</td>\n",
              "      <td>998.861615</td>\n",
              "      <td>1001.042403</td>\n",
              "    </tr>\n",
              "    <tr>\n",
              "      <th>2</th>\n",
              "      <td>410.297162</td>\n",
              "      <td>1000.070267</td>\n",
              "      <td>998.844015</td>\n",
              "    </tr>\n",
              "    <tr>\n",
              "      <th>3</th>\n",
              "      <td>540.382220</td>\n",
              "      <td>999.952251</td>\n",
              "      <td>1000.440940</td>\n",
              "    </tr>\n",
              "    <tr>\n",
              "      <th>4</th>\n",
              "      <td>546.024553</td>\n",
              "      <td>1000.446011</td>\n",
              "      <td>1000.338531</td>\n",
              "    </tr>\n",
              "  </tbody>\n",
              "</table>\n",
              "</div>"
            ],
            "text/plain": [
              "        price     feature1     feature2\n",
              "0  461.527929   999.787558   999.766096\n",
              "1  548.130011   998.861615  1001.042403\n",
              "2  410.297162  1000.070267   998.844015\n",
              "3  540.382220   999.952251  1000.440940\n",
              "4  546.024553  1000.446011  1000.338531"
            ]
          },
          "metadata": {
            "tags": []
          },
          "execution_count": 3
        }
      ]
    },
    {
      "cell_type": "code",
      "metadata": {
        "id": "6wuiiQ2Zhg9G",
        "colab_type": "code",
        "outputId": "42667e47-3c50-4d52-8745-64288c006e33",
        "colab": {
          "base_uri": "https://localhost:8080/",
          "height": 587
        }
      },
      "source": [
        "sns.pairplot(df)"
      ],
      "execution_count": 0,
      "outputs": [
        {
          "output_type": "execute_result",
          "data": {
            "text/plain": [
              "<seaborn.axisgrid.PairGrid at 0x7fe417154160>"
            ]
          },
          "metadata": {
            "tags": []
          },
          "execution_count": 4
        },
        {
          "output_type": "display_data",
          "data": {
            "image/png": "[encoded data removed]",
            "text/plain": [
              "<Figure size 540x540 with 12 Axes>"
            ]
          },
          "metadata": {
            "tags": []
          }
        }
      ]
    },
    {
      "cell_type": "code",
      "metadata": {
        "id": "v4Oc-5b2hg9V",
        "colab_type": "code",
        "colab": {}
      },
      "source": [
        "from sklearn.model_selection import train_test_split"
      ],
      "execution_count": 0,
      "outputs": []
    },
    {
      "cell_type": "code",
      "metadata": {
        "id": "Gpi0AdHJhg9l",
        "colab_type": "code",
        "colab": {}
      },
      "source": [
        "X = df[['feature1','feature2']].values"
      ],
      "execution_count": 0,
      "outputs": []
    },
    {
      "cell_type": "code",
      "metadata": {
        "id": "R5V2JqGghg9y",
        "colab_type": "code",
        "colab": {}
      },
      "source": [
        "y = df['price'].values"
      ],
      "execution_count": 0,
      "outputs": []
    },
    {
      "cell_type": "code",
      "metadata": {
        "id": "Y-fGOOX7hg9-",
        "colab_type": "code",
        "colab": {}
      },
      "source": [
        "X_train, X_test, y_train, y_test = train_test_split(X, y, test_size=0.3, random_state=42)\n"
      ],
      "execution_count": 0,
      "outputs": []
    },
    {
      "cell_type": "code",
      "metadata": {
        "id": "4iVu5NCdhg-L",
        "colab_type": "code",
        "outputId": "5bcccef9-1efc-427b-fa38-0a2bf3f9090c",
        "colab": {
          "base_uri": "https://localhost:8080/",
          "height": 35
        }
      },
      "source": [
        "X_train.shape"
      ],
      "execution_count": 0,
      "outputs": [
        {
          "output_type": "execute_result",
          "data": {
            "text/plain": [
              "(700, 2)"
            ]
          },
          "metadata": {
            "tags": []
          },
          "execution_count": 9
        }
      ]
    },
    {
      "cell_type": "code",
      "metadata": {
        "id": "-zNEteJJhg-b",
        "colab_type": "code",
        "outputId": "e376b012-db23-4046-949f-8803fcc11d3b",
        "colab": {
          "base_uri": "https://localhost:8080/",
          "height": 35
        }
      },
      "source": [
        "X_test.shape"
      ],
      "execution_count": 0,
      "outputs": [
        {
          "output_type": "execute_result",
          "data": {
            "text/plain": [
              "(300, 2)"
            ]
          },
          "metadata": {
            "tags": []
          },
          "execution_count": 10
        }
      ]
    },
    {
      "cell_type": "code",
      "metadata": {
        "id": "9sTeUEpMhg-o",
        "colab_type": "code",
        "colab": {}
      },
      "source": [
        "from sklearn.preprocessing import MinMaxScaler"
      ],
      "execution_count": 0,
      "outputs": []
    },
    {
      "cell_type": "code",
      "metadata": {
        "id": "Z_yFjoi2hg-z",
        "colab_type": "code",
        "colab": {}
      },
      "source": [
        "scaler = MinMaxScaler()"
      ],
      "execution_count": 0,
      "outputs": []
    },
    {
      "cell_type": "code",
      "metadata": {
        "id": "Uo3qEntlhg_C",
        "colab_type": "code",
        "outputId": "69c8cee8-f6b2-4896-8369-ae583dc8759f",
        "colab": {
          "base_uri": "https://localhost:8080/",
          "height": 35
        }
      },
      "source": [
        "scaler.fit(X_train)"
      ],
      "execution_count": 0,
      "outputs": [
        {
          "output_type": "execute_result",
          "data": {
            "text/plain": [
              "MinMaxScaler(copy=True, feature_range=(0, 1))"
            ]
          },
          "metadata": {
            "tags": []
          },
          "execution_count": 14
        }
      ]
    },
    {
      "cell_type": "code",
      "metadata": {
        "id": "vviLAcL9hg_T",
        "colab_type": "code",
        "colab": {}
      },
      "source": [
        "X_train = scaler.transform(X_train)"
      ],
      "execution_count": 0,
      "outputs": []
    },
    {
      "cell_type": "code",
      "metadata": {
        "id": "DO_wlZH5hg_h",
        "colab_type": "code",
        "colab": {}
      },
      "source": [
        "X_test = scaler.transform(X_test)"
      ],
      "execution_count": 0,
      "outputs": []
    },
    {
      "cell_type": "code",
      "metadata": {
        "id": "wZa0NWG8hg_x",
        "colab_type": "code",
        "colab": {}
      },
      "source": [
        "X_train"
      ],
      "execution_count": 0,
      "outputs": []
    },
    {
      "cell_type": "code",
      "metadata": {
        "id": "_cnnveXmhhAB",
        "colab_type": "code",
        "colab": {}
      },
      "source": [
        "from tensorflow.keras.models import Sequential\n",
        "from tensorflow.keras.layers import Dense"
      ],
      "execution_count": 0,
      "outputs": []
    },
    {
      "cell_type": "code",
      "metadata": {
        "id": "MmgjSicxhhAN",
        "colab_type": "code",
        "colab": {}
      },
      "source": [
        "#help(Sequential)"
      ],
      "execution_count": 0,
      "outputs": []
    },
    {
      "cell_type": "code",
      "metadata": {
        "id": "5p29WnIWhhAZ",
        "colab_type": "code",
        "colab": {}
      },
      "source": [
        ""
      ],
      "execution_count": 0,
      "outputs": []
    },
    {
      "cell_type": "code",
      "metadata": {
        "colab_type": "code",
        "id": "OYlTZGs8bZJi",
        "outputId": "5eb5d688-2071-4bc3-bf8f-d261bc95a83f",
        "colab": {
          "base_uri": "https://localhost:8080/",
          "height": 1000
        }
      },
      "source": [
        "model = Sequential()\n",
        "\n",
        "model.add(Dense(4,activation='relu'))\n",
        "model.add(Dense(4,activation='relu'))\n",
        "model.add(Dense(4,activation='relu'))\n",
        "\n",
        "model.add(Dense(1))\n",
        "\n",
        "model.compile(optimizer='rmsprop',loss='mse')\n",
        "\n",
        "model.fit(x=X_train,y=y_train,epochs=250)\n",
        "\n",
        "\n"
      ],
      "execution_count": 0,
      "outputs": [
        {
          "output_type": "stream",
          "text": [
            "Epoch 1/250\n",
            "22/22 [==============================] - 0s 1ms/step - loss: 256701.2969\n",
            "Epoch 2/250\n",
            "22/22 [==============================] - 0s 1ms/step - loss: 256577.3125\n",
            "Epoch 3/250\n",
            "22/22 [==============================] - 0s 1ms/step - loss: 256352.0000\n",
            "Epoch 4/250\n",
            "22/22 [==============================] - 0s 1ms/step - loss: 256136.9844\n",
            "Epoch 5/250\n",
            "22/22 [==============================] - 0s 1ms/step - loss: 255954.9531\n",
            "Epoch 6/250\n",
            "22/22 [==============================] - 0s 1ms/step - loss: 255605.4531\n",
            "Epoch 7/250\n",
            "22/22 [==============================] - 0s 1ms/step - loss: 255626.9375\n",
            "Epoch 8/250\n",
            "22/22 [==============================] - 0s 1ms/step - loss: 255295.7969\n",
            "Epoch 9/250\n",
            "22/22 [==============================] - 0s 1ms/step - loss: 255013.6562\n",
            "Epoch 10/250\n",
            "22/22 [==============================] - 0s 1ms/step - loss: 254878.4062\n",
            "Epoch 11/250\n",
            "22/22 [==============================] - 0s 1ms/step - loss: 254494.7031\n",
            "Epoch 12/250\n",
            "22/22 [==============================] - 0s 1ms/step - loss: 253875.9844\n",
            "Epoch 13/250\n",
            "22/22 [==============================] - 0s 1ms/step - loss: 253562.0938\n",
            "Epoch 14/250\n",
            "22/22 [==============================] - 0s 1ms/step - loss: 253316.5156\n",
            "Epoch 15/250\n",
            "22/22 [==============================] - 0s 1ms/step - loss: 252633.5156\n",
            "Epoch 16/250\n",
            "22/22 [==============================] - 0s 1ms/step - loss: 252223.2031\n",
            "Epoch 17/250\n",
            "22/22 [==============================] - 0s 1ms/step - loss: 251766.4375\n",
            "Epoch 18/250\n",
            "22/22 [==============================] - 0s 1ms/step - loss: 251264.3594\n",
            "Epoch 19/250\n",
            "22/22 [==============================] - 0s 1ms/step - loss: 250505.0938\n",
            "Epoch 20/250\n",
            "22/22 [==============================] - 0s 1ms/step - loss: 249810.2500\n",
            "Epoch 21/250\n",
            "22/22 [==============================] - 0s 1ms/step - loss: 249089.0000\n",
            "Epoch 22/250\n",
            "22/22 [==============================] - 0s 1ms/step - loss: 248271.8594\n",
            "Epoch 23/250\n",
            "22/22 [==============================] - 0s 1ms/step - loss: 247238.9531\n",
            "Epoch 24/250\n",
            "22/22 [==============================] - 0s 1ms/step - loss: 246438.7031\n",
            "Epoch 25/250\n",
            "22/22 [==============================] - 0s 1ms/step - loss: 245569.1094\n",
            "Epoch 26/250\n",
            "22/22 [==============================] - 0s 1ms/step - loss: 244495.7656\n",
            "Epoch 27/250\n",
            "22/22 [==============================] - 0s 1ms/step - loss: 243199.5938\n",
            "Epoch 28/250\n",
            "22/22 [==============================] - 0s 1ms/step - loss: 241910.1875\n",
            "Epoch 29/250\n",
            "22/22 [==============================] - 0s 1ms/step - loss: 240445.0156\n",
            "Epoch 30/250\n",
            "22/22 [==============================] - 0s 1ms/step - loss: 239040.6094\n",
            "Epoch 31/250\n",
            "22/22 [==============================] - 0s 1ms/step - loss: 237546.2031\n",
            "Epoch 32/250\n",
            "22/22 [==============================] - 0s 1ms/step - loss: 236014.7344\n",
            "Epoch 33/250\n",
            "22/22 [==============================] - 0s 1ms/step - loss: 234144.3438\n",
            "Epoch 34/250\n",
            "22/22 [==============================] - 0s 1ms/step - loss: 232342.8438\n",
            "Epoch 35/250\n",
            "22/22 [==============================] - 0s 1ms/step - loss: 230511.0156\n",
            "Epoch 36/250\n",
            "22/22 [==============================] - 0s 1ms/step - loss: 228382.0469\n",
            "Epoch 37/250\n",
            "22/22 [==============================] - 0s 1ms/step - loss: 226426.5625\n",
            "Epoch 38/250\n",
            "22/22 [==============================] - 0s 1ms/step - loss: 223949.0156\n",
            "Epoch 39/250\n",
            "22/22 [==============================] - 0s 1ms/step - loss: 221676.5000\n",
            "Epoch 40/250\n",
            "22/22 [==============================] - 0s 1ms/step - loss: 219157.6094\n",
            "Epoch 41/250\n",
            "22/22 [==============================] - 0s 1ms/step - loss: 216521.4375\n",
            "Epoch 42/250\n",
            "22/22 [==============================] - 0s 1ms/step - loss: 213852.1875\n",
            "Epoch 43/250\n",
            "22/22 [==============================] - 0s 1ms/step - loss: 211033.7656\n",
            "Epoch 44/250\n",
            "22/22 [==============================] - 0s 1ms/step - loss: 208149.1562\n",
            "Epoch 45/250\n",
            "22/22 [==============================] - 0s 1ms/step - loss: 204889.2969\n",
            "Epoch 46/250\n",
            "22/22 [==============================] - 0s 1ms/step - loss: 201660.9844\n",
            "Epoch 47/250\n",
            "22/22 [==============================] - 0s 1ms/step - loss: 198189.7500\n",
            "Epoch 48/250\n",
            "22/22 [==============================] - 0s 1ms/step - loss: 194799.9062\n",
            "Epoch 49/250\n",
            "22/22 [==============================] - 0s 1ms/step - loss: 191250.6875\n",
            "Epoch 50/250\n",
            "22/22 [==============================] - 0s 1ms/step - loss: 187259.3750\n",
            "Epoch 51/250\n",
            "22/22 [==============================] - 0s 1ms/step - loss: 183511.4062\n",
            "Epoch 52/250\n",
            "22/22 [==============================] - 0s 1ms/step - loss: 179310.8125\n",
            "Epoch 53/250\n",
            "22/22 [==============================] - 0s 1ms/step - loss: 175276.3125\n",
            "Epoch 54/250\n",
            "22/22 [==============================] - 0s 1ms/step - loss: 171078.5000\n",
            "Epoch 55/250\n",
            "22/22 [==============================] - 0s 1ms/step - loss: 166502.5000\n",
            "Epoch 56/250\n",
            "22/22 [==============================] - 0s 1ms/step - loss: 161946.9844\n",
            "Epoch 57/250\n",
            "22/22 [==============================] - 0s 1ms/step - loss: 157401.5312\n",
            "Epoch 58/250\n",
            "22/22 [==============================] - 0s 1ms/step - loss: 152518.5938\n",
            "Epoch 59/250\n",
            "22/22 [==============================] - 0s 1ms/step - loss: 147619.2344\n",
            "Epoch 60/250\n",
            "22/22 [==============================] - 0s 1ms/step - loss: 142648.2656\n",
            "Epoch 61/250\n",
            "22/22 [==============================] - 0s 1ms/step - loss: 137521.6719\n",
            "Epoch 62/250\n",
            "22/22 [==============================] - 0s 1ms/step - loss: 132250.5156\n",
            "Epoch 63/250\n",
            "22/22 [==============================] - 0s 1ms/step - loss: 126888.1797\n",
            "Epoch 64/250\n",
            "22/22 [==============================] - 0s 1ms/step - loss: 121505.3047\n",
            "Epoch 65/250\n",
            "22/22 [==============================] - 0s 1ms/step - loss: 116000.9766\n",
            "Epoch 66/250\n",
            "22/22 [==============================] - 0s 1ms/step - loss: 110530.3984\n",
            "Epoch 67/250\n",
            "22/22 [==============================] - 0s 1ms/step - loss: 104879.7188\n",
            "Epoch 68/250\n",
            "22/22 [==============================] - 0s 1ms/step - loss: 99229.9062\n",
            "Epoch 69/250\n",
            "22/22 [==============================] - 0s 1ms/step - loss: 93541.5703\n",
            "Epoch 70/250\n",
            "22/22 [==============================] - 0s 1ms/step - loss: 87933.5547\n",
            "Epoch 71/250\n",
            "22/22 [==============================] - 0s 1ms/step - loss: 82242.5234\n",
            "Epoch 72/250\n",
            "22/22 [==============================] - 0s 1ms/step - loss: 76598.4297\n",
            "Epoch 73/250\n",
            "22/22 [==============================] - 0s 1ms/step - loss: 70922.8984\n",
            "Epoch 74/250\n",
            "22/22 [==============================] - 0s 1ms/step - loss: 65333.0742\n",
            "Epoch 75/250\n",
            "22/22 [==============================] - 0s 1ms/step - loss: 59815.0469\n",
            "Epoch 76/250\n",
            "22/22 [==============================] - 0s 1ms/step - loss: 54409.2734\n",
            "Epoch 77/250\n",
            "22/22 [==============================] - 0s 1ms/step - loss: 49111.2656\n",
            "Epoch 78/250\n",
            "22/22 [==============================] - 0s 1ms/step - loss: 43877.8477\n",
            "Epoch 79/250\n",
            "22/22 [==============================] - 0s 1ms/step - loss: 38845.3906\n",
            "Epoch 80/250\n",
            "22/22 [==============================] - 0s 1ms/step - loss: 34094.0195\n",
            "Epoch 81/250\n",
            "22/22 [==============================] - 0s 1ms/step - loss: 29527.1270\n",
            "Epoch 82/250\n",
            "22/22 [==============================] - 0s 1ms/step - loss: 25154.3633\n",
            "Epoch 83/250\n",
            "22/22 [==============================] - 0s 1ms/step - loss: 21113.3125\n",
            "Epoch 84/250\n",
            "22/22 [==============================] - 0s 1ms/step - loss: 17368.1914\n",
            "Epoch 85/250\n",
            "22/22 [==============================] - 0s 1ms/step - loss: 13987.7031\n",
            "Epoch 86/250\n",
            "22/22 [==============================] - 0s 1ms/step - loss: 10952.6240\n",
            "Epoch 87/250\n",
            "22/22 [==============================] - 0s 1ms/step - loss: 8399.8408\n",
            "Epoch 88/250\n",
            "22/22 [==============================] - 0s 1ms/step - loss: 6276.6323\n",
            "Epoch 89/250\n",
            "22/22 [==============================] - 0s 1ms/step - loss: 4576.2417\n",
            "Epoch 90/250\n",
            "22/22 [==============================] - 0s 1ms/step - loss: 3412.0583\n",
            "Epoch 91/250\n",
            "22/22 [==============================] - 0s 1ms/step - loss: 2712.2634\n",
            "Epoch 92/250\n",
            "22/22 [==============================] - 0s 1ms/step - loss: 2423.4102\n",
            "Epoch 93/250\n",
            "22/22 [==============================] - 0s 1ms/step - loss: 2349.6521\n",
            "Epoch 94/250\n",
            "22/22 [==============================] - 0s 1ms/step - loss: 2310.0349\n",
            "Epoch 95/250\n",
            "22/22 [==============================] - 0s 1ms/step - loss: 2282.1555\n",
            "Epoch 96/250\n",
            "22/22 [==============================] - 0s 1ms/step - loss: 2245.9971\n",
            "Epoch 97/250\n",
            "22/22 [==============================] - 0s 1ms/step - loss: 2204.8862\n",
            "Epoch 98/250\n",
            "22/22 [==============================] - 0s 1ms/step - loss: 2171.7729\n",
            "Epoch 99/250\n",
            "22/22 [==============================] - 0s 1ms/step - loss: 2142.1494\n",
            "Epoch 100/250\n",
            "22/22 [==============================] - 0s 1ms/step - loss: 2106.7432\n",
            "Epoch 101/250\n",
            "22/22 [==============================] - 0s 1ms/step - loss: 2066.2085\n",
            "Epoch 102/250\n",
            "22/22 [==============================] - 0s 2ms/step - loss: 2035.4714\n",
            "Epoch 103/250\n",
            "22/22 [==============================] - 0s 1ms/step - loss: 2000.7573\n",
            "Epoch 104/250\n",
            "22/22 [==============================] - 0s 1ms/step - loss: 1976.0886\n",
            "Epoch 105/250\n",
            "22/22 [==============================] - 0s 1ms/step - loss: 1943.5067\n",
            "Epoch 106/250\n",
            "22/22 [==============================] - 0s 1ms/step - loss: 1904.5116\n",
            "Epoch 107/250\n",
            "22/22 [==============================] - 0s 1ms/step - loss: 1868.6704\n",
            "Epoch 108/250\n",
            "22/22 [==============================] - 0s 1ms/step - loss: 1833.6589\n",
            "Epoch 109/250\n",
            "22/22 [==============================] - 0s 1ms/step - loss: 1798.7303\n",
            "Epoch 110/250\n",
            "22/22 [==============================] - 0s 1ms/step - loss: 1763.2177\n",
            "Epoch 111/250\n",
            "22/22 [==============================] - 0s 1ms/step - loss: 1732.6378\n",
            "Epoch 112/250\n",
            "22/22 [==============================] - 0s 1ms/step - loss: 1707.1310\n",
            "Epoch 113/250\n",
            "22/22 [==============================] - 0s 1ms/step - loss: 1673.2208\n",
            "Epoch 114/250\n",
            "22/22 [==============================] - 0s 1ms/step - loss: 1643.9453\n",
            "Epoch 115/250\n",
            "22/22 [==============================] - 0s 1ms/step - loss: 1615.8148\n",
            "Epoch 116/250\n",
            "22/22 [==============================] - 0s 1ms/step - loss: 1580.9929\n",
            "Epoch 117/250\n",
            "22/22 [==============================] - 0s 1ms/step - loss: 1549.0421\n",
            "Epoch 118/250\n",
            "22/22 [==============================] - 0s 1ms/step - loss: 1517.2340\n",
            "Epoch 119/250\n",
            "22/22 [==============================] - 0s 2ms/step - loss: 1484.9696\n",
            "Epoch 120/250\n",
            "22/22 [==============================] - 0s 2ms/step - loss: 1456.4722\n",
            "Epoch 121/250\n",
            "22/22 [==============================] - 0s 1ms/step - loss: 1424.9806\n",
            "Epoch 122/250\n",
            "22/22 [==============================] - 0s 1ms/step - loss: 1398.3461\n",
            "Epoch 123/250\n",
            "22/22 [==============================] - 0s 1ms/step - loss: 1365.7534\n",
            "Epoch 124/250\n",
            "22/22 [==============================] - 0s 1ms/step - loss: 1332.0303\n",
            "Epoch 125/250\n",
            "22/22 [==============================] - 0s 1ms/step - loss: 1296.7362\n",
            "Epoch 126/250\n",
            "22/22 [==============================] - 0s 1ms/step - loss: 1273.2212\n",
            "Epoch 127/250\n",
            "22/22 [==============================] - 0s 1ms/step - loss: 1246.1398\n",
            "Epoch 128/250\n",
            "22/22 [==============================] - 0s 1ms/step - loss: 1217.7523\n",
            "Epoch 129/250\n",
            "22/22 [==============================] - 0s 1ms/step - loss: 1188.5221\n",
            "Epoch 130/250\n",
            "22/22 [==============================] - 0s 1ms/step - loss: 1159.2445\n",
            "Epoch 131/250\n",
            "22/22 [==============================] - 0s 1ms/step - loss: 1132.8506\n",
            "Epoch 132/250\n",
            "22/22 [==============================] - 0s 1ms/step - loss: 1106.3865\n",
            "Epoch 133/250\n",
            "22/22 [==============================] - 0s 1ms/step - loss: 1073.6533\n",
            "Epoch 134/250\n",
            "22/22 [==============================] - 0s 1ms/step - loss: 1046.0466\n",
            "Epoch 135/250\n",
            "22/22 [==============================] - 0s 1ms/step - loss: 1022.8697\n",
            "Epoch 136/250\n",
            "22/22 [==============================] - 0s 1ms/step - loss: 991.4594\n",
            "Epoch 137/250\n",
            "22/22 [==============================] - 0s 1ms/step - loss: 968.5273\n",
            "Epoch 138/250\n",
            "22/22 [==============================] - 0s 1ms/step - loss: 943.4375\n",
            "Epoch 139/250\n",
            "22/22 [==============================] - 0s 1ms/step - loss: 917.8082\n",
            "Epoch 140/250\n",
            "22/22 [==============================] - 0s 1ms/step - loss: 895.4026\n",
            "Epoch 141/250\n",
            "22/22 [==============================] - 0s 1ms/step - loss: 870.6674\n",
            "Epoch 142/250\n",
            "22/22 [==============================] - 0s 1ms/step - loss: 844.6465\n",
            "Epoch 143/250\n",
            "22/22 [==============================] - 0s 1ms/step - loss: 818.4230\n",
            "Epoch 144/250\n",
            "22/22 [==============================] - 0s 1ms/step - loss: 797.2122\n",
            "Epoch 145/250\n",
            "22/22 [==============================] - 0s 1ms/step - loss: 769.9695\n",
            "Epoch 146/250\n",
            "22/22 [==============================] - 0s 1ms/step - loss: 748.6898\n",
            "Epoch 147/250\n",
            "22/22 [==============================] - 0s 1ms/step - loss: 720.3785\n",
            "Epoch 148/250\n",
            "22/22 [==============================] - 0s 1ms/step - loss: 707.7457\n",
            "Epoch 149/250\n",
            "22/22 [==============================] - 0s 1ms/step - loss: 680.0923\n",
            "Epoch 150/250\n",
            "22/22 [==============================] - 0s 1ms/step - loss: 659.7408\n",
            "Epoch 151/250\n",
            "22/22 [==============================] - 0s 1ms/step - loss: 640.7261\n",
            "Epoch 152/250\n",
            "22/22 [==============================] - 0s 1ms/step - loss: 621.5468\n",
            "Epoch 153/250\n",
            "22/22 [==============================] - 0s 1ms/step - loss: 598.8965\n",
            "Epoch 154/250\n",
            "22/22 [==============================] - 0s 1ms/step - loss: 568.9174\n",
            "Epoch 155/250\n",
            "22/22 [==============================] - 0s 1ms/step - loss: 555.5508\n",
            "Epoch 156/250\n",
            "22/22 [==============================] - 0s 1ms/step - loss: 527.6241\n",
            "Epoch 157/250\n",
            "22/22 [==============================] - 0s 1ms/step - loss: 507.0709\n",
            "Epoch 158/250\n",
            "22/22 [==============================] - 0s 1ms/step - loss: 487.1025\n",
            "Epoch 159/250\n",
            "22/22 [==============================] - 0s 1ms/step - loss: 466.0910\n",
            "Epoch 160/250\n",
            "22/22 [==============================] - 0s 1ms/step - loss: 447.4666\n",
            "Epoch 161/250\n",
            "22/22 [==============================] - 0s 1ms/step - loss: 424.4443\n",
            "Epoch 162/250\n",
            "22/22 [==============================] - 0s 1ms/step - loss: 405.1504\n",
            "Epoch 163/250\n",
            "22/22 [==============================] - 0s 2ms/step - loss: 385.7523\n",
            "Epoch 164/250\n",
            "22/22 [==============================] - 0s 1ms/step - loss: 366.8389\n",
            "Epoch 165/250\n",
            "22/22 [==============================] - 0s 1ms/step - loss: 350.7978\n",
            "Epoch 166/250\n",
            "22/22 [==============================] - 0s 1ms/step - loss: 332.2836\n",
            "Epoch 167/250\n",
            "22/22 [==============================] - 0s 1ms/step - loss: 316.1998\n",
            "Epoch 168/250\n",
            "22/22 [==============================] - 0s 1ms/step - loss: 299.6884\n",
            "Epoch 169/250\n",
            "22/22 [==============================] - 0s 1ms/step - loss: 284.5708\n",
            "Epoch 170/250\n",
            "22/22 [==============================] - 0s 1ms/step - loss: 268.7913\n",
            "Epoch 171/250\n",
            "22/22 [==============================] - 0s 1ms/step - loss: 255.8220\n",
            "Epoch 172/250\n",
            "22/22 [==============================] - 0s 1ms/step - loss: 240.4519\n",
            "Epoch 173/250\n",
            "22/22 [==============================] - 0s 1ms/step - loss: 226.4657\n",
            "Epoch 174/250\n",
            "22/22 [==============================] - 0s 1ms/step - loss: 211.3894\n",
            "Epoch 175/250\n",
            "22/22 [==============================] - 0s 1ms/step - loss: 197.7400\n",
            "Epoch 176/250\n",
            "22/22 [==============================] - 0s 1ms/step - loss: 183.9383\n",
            "Epoch 177/250\n",
            "22/22 [==============================] - 0s 1ms/step - loss: 171.7784\n",
            "Epoch 178/250\n",
            "22/22 [==============================] - 0s 1ms/step - loss: 159.3363\n",
            "Epoch 179/250\n",
            "22/22 [==============================] - 0s 1ms/step - loss: 148.1229\n",
            "Epoch 180/250\n",
            "22/22 [==============================] - 0s 1ms/step - loss: 136.6374\n",
            "Epoch 181/250\n",
            "22/22 [==============================] - 0s 1ms/step - loss: 127.2011\n",
            "Epoch 182/250\n",
            "22/22 [==============================] - 0s 1ms/step - loss: 119.0764\n",
            "Epoch 183/250\n",
            "22/22 [==============================] - 0s 1ms/step - loss: 109.6179\n",
            "Epoch 184/250\n",
            "22/22 [==============================] - 0s 1ms/step - loss: 100.8237\n",
            "Epoch 185/250\n",
            "22/22 [==============================] - 0s 1ms/step - loss: 92.6904\n",
            "Epoch 186/250\n",
            "22/22 [==============================] - 0s 1ms/step - loss: 85.3704\n",
            "Epoch 187/250\n",
            "22/22 [==============================] - 0s 1ms/step - loss: 78.8064\n",
            "Epoch 188/250\n",
            "22/22 [==============================] - 0s 1ms/step - loss: 71.9176\n",
            "Epoch 189/250\n",
            "22/22 [==============================] - 0s 1ms/step - loss: 65.8029\n",
            "Epoch 190/250\n",
            "22/22 [==============================] - 0s 1ms/step - loss: 60.4567\n",
            "Epoch 191/250\n",
            "22/22 [==============================] - 0s 1ms/step - loss: 55.3412\n",
            "Epoch 192/250\n",
            "22/22 [==============================] - 0s 1ms/step - loss: 50.4311\n",
            "Epoch 193/250\n",
            "22/22 [==============================] - 0s 1ms/step - loss: 46.5892\n",
            "Epoch 194/250\n",
            "22/22 [==============================] - 0s 1ms/step - loss: 43.0149\n",
            "Epoch 195/250\n",
            "22/22 [==============================] - 0s 1ms/step - loss: 39.7406\n",
            "Epoch 196/250\n",
            "22/22 [==============================] - 0s 1ms/step - loss: 37.9400\n",
            "Epoch 197/250\n",
            "22/22 [==============================] - 0s 1ms/step - loss: 35.2210\n",
            "Epoch 198/250\n",
            "22/22 [==============================] - 0s 1ms/step - loss: 33.5667\n",
            "Epoch 199/250\n",
            "22/22 [==============================] - 0s 1ms/step - loss: 31.9912\n",
            "Epoch 200/250\n",
            "22/22 [==============================] - 0s 1ms/step - loss: 30.3896\n",
            "Epoch 201/250\n",
            "22/22 [==============================] - 0s 1ms/step - loss: 29.4483\n",
            "Epoch 202/250\n",
            "22/22 [==============================] - 0s 1ms/step - loss: 28.3861\n",
            "Epoch 203/250\n",
            "22/22 [==============================] - 0s 1ms/step - loss: 27.5290\n",
            "Epoch 204/250\n",
            "22/22 [==============================] - 0s 1ms/step - loss: 26.8493\n",
            "Epoch 205/250\n",
            "22/22 [==============================] - 0s 1ms/step - loss: 26.4861\n",
            "Epoch 206/250\n",
            "22/22 [==============================] - 0s 1ms/step - loss: 25.9421\n",
            "Epoch 207/250\n",
            "22/22 [==============================] - 0s 1ms/step - loss: 25.6202\n",
            "Epoch 208/250\n",
            "22/22 [==============================] - 0s 1ms/step - loss: 25.5103\n",
            "Epoch 209/250\n",
            "22/22 [==============================] - 0s 1ms/step - loss: 24.8704\n",
            "Epoch 210/250\n",
            "22/22 [==============================] - 0s 1ms/step - loss: 24.9414\n",
            "Epoch 211/250\n",
            "22/22 [==============================] - 0s 1ms/step - loss: 24.4022\n",
            "Epoch 212/250\n",
            "22/22 [==============================] - 0s 1ms/step - loss: 24.8850\n",
            "Epoch 213/250\n",
            "22/22 [==============================] - 0s 1ms/step - loss: 24.7636\n",
            "Epoch 214/250\n",
            "22/22 [==============================] - 0s 1ms/step - loss: 24.4693\n",
            "Epoch 215/250\n",
            "22/22 [==============================] - 0s 1ms/step - loss: 24.1847\n",
            "Epoch 216/250\n",
            "22/22 [==============================] - 0s 1ms/step - loss: 24.7682\n",
            "Epoch 217/250\n",
            "22/22 [==============================] - 0s 1ms/step - loss: 24.1777\n",
            "Epoch 218/250\n",
            "22/22 [==============================] - 0s 1ms/step - loss: 24.2365\n",
            "Epoch 219/250\n",
            "22/22 [==============================] - 0s 1ms/step - loss: 24.4766\n",
            "Epoch 220/250\n",
            "22/22 [==============================] - 0s 1ms/step - loss: 24.6134\n",
            "Epoch 221/250\n",
            "22/22 [==============================] - 0s 1ms/step - loss: 24.6481\n",
            "Epoch 222/250\n",
            "22/22 [==============================] - 0s 1ms/step - loss: 24.6067\n",
            "Epoch 223/250\n",
            "22/22 [==============================] - 0s 1ms/step - loss: 24.2458\n",
            "Epoch 224/250\n",
            "22/22 [==============================] - 0s 1ms/step - loss: 24.3426\n",
            "Epoch 225/250\n",
            "22/22 [==============================] - 0s 1ms/step - loss: 24.4800\n",
            "Epoch 226/250\n",
            "22/22 [==============================] - 0s 1ms/step - loss: 24.4302\n",
            "Epoch 227/250\n",
            "22/22 [==============================] - 0s 1ms/step - loss: 24.0960\n",
            "Epoch 228/250\n",
            "22/22 [==============================] - 0s 1ms/step - loss: 24.2802\n",
            "Epoch 229/250\n",
            "22/22 [==============================] - 0s 1ms/step - loss: 24.1630\n",
            "Epoch 230/250\n",
            "22/22 [==============================] - 0s 1ms/step - loss: 24.0919\n",
            "Epoch 231/250\n",
            "22/22 [==============================] - 0s 2ms/step - loss: 24.8525\n",
            "Epoch 232/250\n",
            "22/22 [==============================] - 0s 1ms/step - loss: 24.2812\n",
            "Epoch 233/250\n",
            "22/22 [==============================] - 0s 1ms/step - loss: 24.4914\n",
            "Epoch 234/250\n",
            "22/22 [==============================] - 0s 1ms/step - loss: 24.5515\n",
            "Epoch 235/250\n",
            "22/22 [==============================] - 0s 1ms/step - loss: 24.0897\n",
            "Epoch 236/250\n",
            "22/22 [==============================] - 0s 1ms/step - loss: 24.2738\n",
            "Epoch 237/250\n",
            "22/22 [==============================] - 0s 1ms/step - loss: 24.2945\n",
            "Epoch 238/250\n",
            "22/22 [==============================] - 0s 1ms/step - loss: 24.1769\n",
            "Epoch 239/250\n",
            "22/22 [==============================] - 0s 1ms/step - loss: 24.2519\n",
            "Epoch 240/250\n",
            "22/22 [==============================] - 0s 1ms/step - loss: 24.0111\n",
            "Epoch 241/250\n",
            "22/22 [==============================] - 0s 1ms/step - loss: 24.7433\n",
            "Epoch 242/250\n",
            "22/22 [==============================] - 0s 1ms/step - loss: 24.4154\n",
            "Epoch 243/250\n",
            "22/22 [==============================] - 0s 1ms/step - loss: 24.1497\n",
            "Epoch 244/250\n",
            "22/22 [==============================] - 0s 1ms/step - loss: 24.3388\n",
            "Epoch 245/250\n",
            "22/22 [==============================] - 0s 1ms/step - loss: 24.0998\n",
            "Epoch 246/250\n",
            "22/22 [==============================] - 0s 1ms/step - loss: 24.4301\n",
            "Epoch 247/250\n",
            "22/22 [==============================] - 0s 1ms/step - loss: 24.3586\n",
            "Epoch 248/250\n",
            "22/22 [==============================] - 0s 1ms/step - loss: 24.1273\n",
            "Epoch 249/250\n",
            "22/22 [==============================] - 0s 1ms/step - loss: 24.4433\n",
            "Epoch 250/250\n",
            "22/22 [==============================] - 0s 1ms/step - loss: 24.2134\n"
          ],
          "name": "stdout"
        },
        {
          "output_type": "execute_result",
          "data": {
            "text/plain": [
              "<tensorflow.python.keras.callbacks.History at 0x7fe382d4acc0>"
            ]
          },
          "metadata": {
            "tags": []
          },
          "execution_count": 21
        }
      ]
    },
    {
      "cell_type": "code",
      "metadata": {
        "id": "i2V3PD4K5Lg6",
        "colab_type": "code",
        "colab": {}
      },
      "source": [
        ""
      ],
      "execution_count": 0,
      "outputs": []
    },
    {
      "cell_type": "code",
      "metadata": {
        "id": "MFZol5FgfVl1",
        "colab_type": "code",
        "outputId": "79506950-143b-4908-b410-cc223c548287",
        "colab": {
          "base_uri": "https://localhost:8080/",
          "height": 283
        }
      },
      "source": [
        "loss_df = pd.DataFrame(model.history.history)\n",
        "loss_df.plot()\n"
      ],
      "execution_count": 0,
      "outputs": [
        {
          "output_type": "execute_result",
          "data": {
            "text/plain": [
              "<matplotlib.axes._subplots.AxesSubplot at 0x7fe37fea48d0>"
            ]
          },
          "metadata": {
            "tags": []
          },
          "execution_count": 22
        },
        {
          "output_type": "display_data",
          "data": {
            "image/png": "[encoded data removed]",
            "text/plain": [
              "<Figure size 432x288 with 1 Axes>"
            ]
          },
          "metadata": {
            "tags": []
          }
        }
      ]
    },
    {
      "cell_type": "code",
      "metadata": {
        "id": "CqSribS_7V3M",
        "colab_type": "code",
        "outputId": "95a6094c-f93e-490b-ae5d-ef899207f1c3",
        "colab": {
          "base_uri": "https://localhost:8080/",
          "height": 35
        }
      },
      "source": [
        "model.evaluate(X_test,y_test,verbose=0)"
      ],
      "execution_count": 0,
      "outputs": [
        {
          "output_type": "execute_result",
          "data": {
            "text/plain": [
              "24.91103744506836"
            ]
          },
          "metadata": {
            "tags": []
          },
          "execution_count": 23
        }
      ]
    },
    {
      "cell_type": "code",
      "metadata": {
        "id": "XYcBY-0W8aC-",
        "colab_type": "code",
        "outputId": "ac207db7-59c2-4f0c-a589-0de953b10c6f",
        "colab": {
          "base_uri": "https://localhost:8080/",
          "height": 35
        }
      },
      "source": [
        "model.evaluate(X_train,y_train,verbose=0)"
      ],
      "execution_count": 0,
      "outputs": [
        {
          "output_type": "execute_result",
          "data": {
            "text/plain": [
              "24.02006721496582"
            ]
          },
          "metadata": {
            "tags": []
          },
          "execution_count": 24
        }
      ]
    },
    {
      "cell_type": "code",
      "metadata": {
        "id": "khNKFmsR9ByL",
        "colab_type": "code",
        "colab": {}
      },
      "source": [
        "test_predictions = model.predict(X_test)\n",
        "#test_predictions"
      ],
      "execution_count": 0,
      "outputs": []
    },
    {
      "cell_type": "code",
      "metadata": {
        "id": "DjSRIpXZ9Sdk",
        "colab_type": "code",
        "colab": {}
      },
      "source": [
        "test_predictions = pd.Series(test_predictions.reshape(300,))"
      ],
      "execution_count": 0,
      "outputs": []
    },
    {
      "cell_type": "code",
      "metadata": {
        "id": "5NI9G68k_Yqq",
        "colab_type": "code",
        "outputId": "3adf14b3-62c1-4a68-cb20-96ae4381debc",
        "colab": {
          "base_uri": "https://localhost:8080/",
          "height": 297
        }
      },
      "source": [
        "pred_df = pd.DataFrame(y_test,columns=['Test True Y'])\n",
        "pred_df = pd.concat([pred_df,test_predictions],axis=1)\n",
        "pred_df.columns = ['Test True Y','Model Predictions']\n",
        "sns.scatterplot(x='Test True Y',y='Model Predictions',data=pred_df)\n"
      ],
      "execution_count": 0,
      "outputs": [
        {
          "output_type": "execute_result",
          "data": {
            "text/plain": [
              "<matplotlib.axes._subplots.AxesSubplot at 0x7fe37ed3ebe0>"
            ]
          },
          "metadata": {
            "tags": []
          },
          "execution_count": 35
        },
        {
          "output_type": "display_data",
          "data": {
            "image/png": "[encoded data removed]",
            "text/plain": [
              "<Figure size 432x288 with 1 Axes>"
            ]
          },
          "metadata": {
            "tags": []
          }
        }
      ]
    },
    {
      "cell_type": "code",
      "metadata": {
        "id": "zFYF6228Cp8R",
        "colab_type": "code",
        "outputId": "e36dc2a1-e092-4e32-c83c-eeb46ba87733",
        "colab": {
          "base_uri": "https://localhost:8080/",
          "height": 35
        }
      },
      "source": [
        " from sklearn.metrics import mean_absolute_error, mean_squared_error\n",
        " mean_absolute_error(pred_df['Test True Y'],pred_df['Model Predictions'])"
      ],
      "execution_count": 0,
      "outputs": [
        {
          "output_type": "execute_result",
          "data": {
            "text/plain": [
              "3.9957574356398133"
            ]
          },
          "metadata": {
            "tags": []
          },
          "execution_count": 37
        }
      ]
    },
    {
      "cell_type": "code",
      "metadata": {
        "id": "E_eB8GzaG0HS",
        "colab_type": "code",
        "outputId": "8502b7b7-2c93-4a83-84f0-4c03f0144610",
        "colab": {
          "base_uri": "https://localhost:8080/",
          "height": 35
        }
      },
      "source": [
        "mean_squared_error(pred_df['Test True Y'],pred_df['Model Predictions'])"
      ],
      "execution_count": 0,
      "outputs": [
        {
          "output_type": "execute_result",
          "data": {
            "text/plain": [
              "24.85928971116521"
            ]
          },
          "metadata": {
            "tags": []
          },
          "execution_count": 39
        }
      ]
    },
    {
      "cell_type": "code",
      "metadata": {
        "id": "Bbj389UwHsIz",
        "colab_type": "code",
        "outputId": "78458e12-8b53-4943-f07b-27ac1304d962",
        "colab": {
          "base_uri": "https://localhost:8080/",
          "height": 35
        }
      },
      "source": [
        "#Predicting the price of a new gem\n",
        "new_gem = [[988,1000]]\n",
        "new_gem = scaler.transform(new_gem)\n",
        "model.predict(new_gem)"
      ],
      "execution_count": 0,
      "outputs": [
        {
          "output_type": "execute_result",
          "data": {
            "text/plain": [
              "array([[38.220856]], dtype=float32)"
            ]
          },
          "metadata": {
            "tags": []
          },
          "execution_count": 40
        }
      ]
    },
    {
      "cell_type": "code",
      "metadata": {
        "id": "LpIQuYZBKY4V",
        "colab_type": "code",
        "colab": {}
      },
      "source": [
        "#How to save the model\n",
        "from tensorflow.keras.models import load_model\n",
        "model.save('my_gem_model.h5')"
      ],
      "execution_count": 0,
      "outputs": []
    },
    {
      "cell_type": "code",
      "metadata": {
        "id": "RXtYY9_pKYzG",
        "colab_type": "code",
        "outputId": "21cd3f3d-fab1-4278-a8f1-3aac838e754a",
        "colab": {
          "base_uri": "https://localhost:8080/",
          "height": 55
        }
      },
      "source": [
        "later_model = load_model('my_gem_model.h5')"
      ],
      "execution_count": 0,
      "outputs": [
        {
          "output_type": "stream",
          "text": [
            "WARNING:tensorflow:Sequential models without an `input_shape` passed to the first layer cannot reload their optimizer state. As a result, your model isstarting with a freshly initialized optimizer.\n"
          ],
          "name": "stdout"
        }
      ]
    },
    {
      "cell_type": "code",
      "metadata": {
        "id": "Y63tyN0IMEis",
        "colab_type": "code",
        "outputId": "5fb3c569-7602-415a-b69d-e7152f16fa21",
        "colab": {
          "base_uri": "https://localhost:8080/",
          "height": 35
        }
      },
      "source": [
        "later_model.predict(new_gem)"
      ],
      "execution_count": 0,
      "outputs": [
        {
          "output_type": "execute_result",
          "data": {
            "text/plain": [
              "array([[38.220856]], dtype=float32)"
            ]
          },
          "metadata": {
            "tags": []
          },
          "execution_count": 46
        }
      ]
    }
  ]
}